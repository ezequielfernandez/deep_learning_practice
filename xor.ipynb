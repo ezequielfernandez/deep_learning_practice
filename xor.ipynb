{
 "cells": [
  {
   "cell_type": "code",
   "execution_count": 2,
   "metadata": {},
   "outputs": [],
   "source": [
    "import numpy as np\n",
    "import random\n",
    "from matplotlib import pyplot as plt\n"
   ]
  },
  {
   "cell_type": "code",
   "execution_count": 3,
   "metadata": {},
   "outputs": [],
   "source": [
    "import math\n",
    "\n",
    "def sigmoid(x):\n",
    "  return 1 / (1 + math.exp(-x))"
   ]
  },
  {
   "cell_type": "code",
   "execution_count": 4,
   "metadata": {},
   "outputs": [],
   "source": [
    "X = [[0,0],[0,1],[1,0],[1,1]]\n",
    "y = [0,1,1,0]"
   ]
  },
  {
   "cell_type": "markdown",
   "metadata": {},
   "source": [
    "Derivadas parciales"
   ]
  },
  {
   "cell_type": "code",
   "execution_count": 5,
   "metadata": {},
   "outputs": [],
   "source": [
    "def L_w_1_1_1(y, y_pred, w_1_1_2, z_1_1, x_1):\n",
    "    return -2 * (y-y_pred) * w_1_1_2 * sigmoid(z_1_1) * (1 - sigmoid(z_1_1)) * x_1\n",
    "\n",
    "def L_w_1_2_1(y, y_pred, w_1_1_2, z_1_1, x_2):\n",
    "    return -2 * (y-y_pred) * w_1_1_2 * sigmoid(z_1_1) * (1 - sigmoid(z_1_1)) * x_2\n",
    "\n",
    "def L_b_1_1(y, y_pred, w_1_1_2, z_1_1):\n",
    "    return -2 * (y-y_pred) * w_1_1_2 * sigmoid(z_1_1) * (1 - sigmoid(z_1_1))\n",
    "\n",
    "def L_w_2_1_1(y, y_pred, w_2_1_2, z_2_1, x_1):\n",
    "    return -2 * (y-y_pred) * w_2_1_2 * sigmoid(z_2_1) * (1 - sigmoid(z_2_1)) * x_1\n",
    "\n",
    "def L_w_2_2_1(y, y_pred, w_2_1_2, z_2_1, x_2):\n",
    "    return -2 * (y-y_pred) * w_2_1_2 * sigmoid(z_2_1) * (1 - sigmoid(z_2_1)) * x_2\n",
    "\n",
    "def L_b_2_1(y, y_pred, w_2_1_2, z_2_1):\n",
    "    return -2 * (y-y_pred) * w_2_1_2 * sigmoid(z_2_1) * (1 - sigmoid(z_2_1))\n",
    "\n",
    "def L_w_1_1_2(y, y_pred, a_1_1):\n",
    "    return -2 * (y-y_pred) * a_1_1\n",
    "\n",
    "def L_w_1_2_2(y, y_pred, a_2_1):\n",
    "    return -2 * (y-y_pred) * a_2_1\n",
    "\n",
    "def L_b_1_2(y, y_pred):\n",
    "    return -2 * (y-y_pred)"
   ]
  },
  {
   "cell_type": "markdown",
   "metadata": {},
   "source": [
    "Error MSE"
   ]
  },
  {
   "cell_type": "code",
   "execution_count": 6,
   "metadata": {},
   "outputs": [],
   "source": [
    "def loss(y, y_pred):\n",
    "    return (y - y_pred)**2"
   ]
  },
  {
   "cell_type": "markdown",
   "metadata": {},
   "source": [
    "SGD"
   ]
  },
  {
   "cell_type": "code",
   "execution_count": 187,
   "metadata": {},
   "outputs": [],
   "source": [
    "def sgd(X, y):\n",
    "    plt.clf()\n",
    "    W11_1 = random.uniform(0, 1)\n",
    "    W12_1 = random.uniform(0, 1)\n",
    "    b1_1 = random.uniform(0, 1)\n",
    "\n",
    "    W21_1 = random.uniform(0, 1)\n",
    "    W22_1 = random.uniform(0, 1)\n",
    "    b2_1 = random.uniform(0, 1)\n",
    "\n",
    "    W11_2 = random.uniform(0, 1)\n",
    "    W12_2 = random.uniform(0, 1)\n",
    "    b1_2 = random.uniform(0, 1)\n",
    "\n",
    "    n_epochs = 15000\n",
    "    learning_rate = 0.1\n",
    "\n",
    "    errors = []\n",
    "    \n",
    "    for epoch in range(n_epochs):\n",
    "        for x, yi in zip(X, y):\n",
    "            # Paso forward\n",
    "            z1_1 = W11_1 * x[0] + W12_1 * x[1] + b1_1\n",
    "            z2_1 = W21_1 * x[0] + W22_1 * x[1] + b2_1\n",
    "            a1_1 = sigmoid(z1_1)\n",
    "            a2_1 = sigmoid(z2_1)\n",
    "\n",
    "            z1_2 = W11_2 * a1_1 + W12_2 * a2_1 + b1_2\n",
    "\n",
    "            # Error\n",
    "            error = loss(yi, z1_2)\n",
    "\n",
    "            # Actualizamos los parámetros\n",
    "            W11_1 = W11_1 - learning_rate * L_w_1_1_1(yi, z1_2, W11_2, z1_1, x[0])\n",
    "            W12_1 = W12_1 - learning_rate * L_w_1_2_1(yi, z1_2, W11_2, z1_1, x[1])\n",
    "            b1_1 = b1_1 - learning_rate * L_b_1_1(yi, z1_2, W11_2, z1_1) \n",
    "\n",
    "            W21_1 = W21_1 - learning_rate * L_w_2_1_1(yi, z1_2, W12_2, z2_1, x[0])\n",
    "            W12_1 = W12_1 - learning_rate * L_w_2_2_1(yi, z1_2, W12_2, z2_1, x[1])\n",
    "            b2_1 = b2_1 - learning_rate * L_b_2_1(yi, z1_2, W12_2, z2_1) \n",
    "\n",
    "            W11_2 = W11_2 - learning_rate * L_w_1_1_2(yi, z1_2, a1_1)\n",
    "            W12_2 = W12_2 - learning_rate * L_w_1_2_2(yi, z1_2, a2_1)\n",
    "            b1_2 = b1_2 - learning_rate * L_b_1_2(yi, z1_2)\n",
    "        \n",
    "        # Calculo el error mse\n",
    "        mse = 0\n",
    "        for x, yi in zip(X, y):\n",
    "            z1_1 = W11_1 * x[0] + W12_1 * x[1] + b1_1\n",
    "            z2_1 = W21_1 * x[0] + W22_1 * x[1] + b2_1\n",
    "            a1_1 = sigmoid(z1_1)\n",
    "            a2_1 = sigmoid(z2_1)\n",
    "\n",
    "            y_pred = W11_2 * a1_1 + W12_2 * a2_1 + b1_2\n",
    "            mse = mse + (yi - y_pred) ** 2\n",
    "\n",
    "        mse = mse / 4\n",
    "        errors.append(mse)\n",
    "\n",
    "    print(\"W11_1\")\n",
    "    print(W11_1)\n",
    "    print(\"W12_1\")\n",
    "    print(W12_1)\n",
    "    print(\"b1_1\")\n",
    "    print(b1_1)\n",
    "\n",
    "    print(\"W21_1\")\n",
    "    print(W21_1)\n",
    "    print(\"W22_1\")\n",
    "    print(W22_1)\n",
    "    print(\"b2_1\")\n",
    "    print(b2_1)\n",
    "\n",
    "    print(\"W11_2\")\n",
    "    print(W11_2)\n",
    "    print(\"W12_2\")\n",
    "    print(W12_2)\n",
    "    print(\"b2_2\")\n",
    "    print(b1_2)\n",
    "\n",
    "    li = list(zip(range(n_epochs), errors))\n",
    "    plt.plot(range(n_epochs), errors)\n",
    "    plt.ylabel('mse')\n",
    "    plt.xlabel('epochs')\n",
    "\n",
    "    plt.show()\n",
    "\n"
   ]
  },
  {
   "cell_type": "code",
   "execution_count": 190,
   "metadata": {},
   "outputs": [
    {
     "name": "stdout",
     "output_type": "stream",
     "text": [
      "W11_1\n",
      "3.8709265652013296\n",
      "W12_1\n",
      "-0.6908678727192851\n",
      "b1_1\n",
      "-3.672939890806645\n",
      "W21_1\n",
      "-4.335658617756297\n",
      "W22_1\n",
      "0.6919854891328006\n",
      "b2_1\n",
      "-0.5920703932616738\n",
      "W11_2\n",
      "6.142912528558053\n",
      "W12_2\n",
      "6.368316907968252\n",
      "b2_2\n",
      "-2.420314252178897\n"
     ]
    },
    {
     "data": {
      "image/png": "[encoded data removed]",
      "text/plain": [
       "<Figure size 432x288 with 1 Axes>"
      ]
     },
     "metadata": {
      "needs_background": "light"
     },
     "output_type": "display_data"
    }
   ],
   "source": [
    "sgd(X,y)"
   ]
  },
  {
   "cell_type": "markdown",
   "metadata": {},
   "source": [
    "Mini-batch"
   ]
  },
  {
   "cell_type": "code",
   "execution_count": 27,
   "metadata": {},
   "outputs": [],
   "source": [
    "def mini_batch(X, y):\n",
    "    plt.clf()\n",
    "    W11_1 = random.uniform(0, 1)\n",
    "    W12_1 = random.uniform(0, 1)\n",
    "    b1_1 = random.uniform(0, 1)\n",
    "\n",
    "    W21_1 = random.uniform(0, 1)\n",
    "    W22_1 = random.uniform(0, 1)\n",
    "    b2_1 = random.uniform(0, 1)\n",
    "\n",
    "    W11_2 = random.uniform(0, 1)\n",
    "    W12_2 = random.uniform(0, 1)\n",
    "    b1_2 = random.uniform(0, 1)\n",
    "\n",
    "    # Hiperparametros\n",
    "    n_epochs = 100000\n",
    "    learning_rate = 0.1\n",
    "    b = 2\n",
    "    n = 4\n",
    "    batches =(int) (n / b)\n",
    "    epsilon = 0.1\n",
    "    errors = []\n",
    "    \n",
    "    for epoch in range(n_epochs):\n",
    "        for b_i in range(batches):\n",
    "            inferior = b_i*b\n",
    "            superior = b_i*b + b\n",
    "            error = 0\n",
    "            z1_1 = 0\n",
    "            z2_1 = 0\n",
    "            a1_1 = 0\n",
    "            a2_1 = 0\n",
    "            z1_2 = 0\n",
    "\n",
    "            for x, yi in list(zip(X, y))[inferior:superior]:\n",
    "                # Paso forward\n",
    "                z1_1 = W11_1 * x[0] + W12_1 * x[1] + b1_1\n",
    "                z2_1 = W21_1 * x[0] + W22_1 * x[1] + b2_1\n",
    "                a1_1 = sigmoid(z1_1)\n",
    "                a2_1 = sigmoid(z2_1)\n",
    "\n",
    "                z1_2 = W11_2 * a1_1 + W12_2 * a2_1 + b1_2\n",
    "\n",
    "                # Error\n",
    "                error = error + loss(yi, z1_2)\n",
    "\n",
    "            # Error\n",
    "            error = error / b\n",
    "            # Actualizamos los parámetros\n",
    "            W11_1 = W11_1 - learning_rate * L_w_1_1_1(yi, z1_2, W11_2, z1_1, x[0])\n",
    "            W12_1 = W12_1 - learning_rate * L_w_1_2_1(yi, z1_2, W11_2, z1_1, x[1])\n",
    "            b1_1 = b1_1 - learning_rate * L_b_1_1(yi, z1_2, W11_2, z1_1) \n",
    "\n",
    "            W21_1 = W21_1 - learning_rate * L_w_2_1_1(yi, z1_2, W12_2, z2_1, x[0])\n",
    "            W12_1 = W12_1 - learning_rate * L_w_2_2_1(yi, z1_2, W12_2, z2_1, x[1])\n",
    "            b2_1 = b2_1 - learning_rate * L_b_2_1(yi, z1_2, W12_2, z2_1) \n",
    "\n",
    "            W11_2 = W11_2 - learning_rate * L_w_1_1_2(yi, z1_2, a1_1)\n",
    "            W12_2 = W12_2 - learning_rate * L_w_1_2_2(yi, z1_2, a2_1)\n",
    "            b1_2 = b1_2 - learning_rate * L_b_1_2(yi, z1_2)\n",
    "        \n",
    "        # Calculo el error mse\n",
    "        mse = 0\n",
    "        for x, yi in zip(X, y):\n",
    "            z1_1 = W11_1 * x[0] + W12_1 * x[1] + b1_1\n",
    "            z2_1 = W21_1 * x[0] + W22_1 * x[1] + b2_1\n",
    "            a1_1 = sigmoid(z1_1)\n",
    "            a2_1 = sigmoid(z2_1)\n",
    "\n",
    "            y_pred = W11_2 * a1_1 + W12_2 * a2_1 + b1_2\n",
    "            mse = mse + (yi - y_pred) ** 2\n",
    "\n",
    "        mse = mse / 4\n",
    "        errors.append(mse)\n",
    "\n",
    "    print(\"W11_1\")\n",
    "    print(W11_1)\n",
    "    print(\"W12_1\")\n",
    "    print(W12_1)\n",
    "    print(\"b1_1\")\n",
    "    print(b1_1)\n",
    "\n",
    "    print(\"W21_1\")\n",
    "    print(W21_1)\n",
    "    print(\"W22_1\")\n",
    "    print(W22_1)\n",
    "    print(\"b2_1\")\n",
    "    print(b2_1)\n",
    "\n",
    "    print(\"W11_2\")\n",
    "    print(W11_2)\n",
    "    print(\"W12_2\")\n",
    "    print(W12_2)\n",
    "    print(\"b2_2\")\n",
    "    print(b1_2)\n",
    "\n",
    "    li = list(zip(range(n_epochs), errors))\n",
    "    plt.plot(range(n_epochs), errors)\n",
    "    plt.ylabel('mse')\n",
    "    plt.xlabel('epochs')\n",
    "\n",
    "    plt.show()\n",
    "\n"
   ]
  },
  {
   "cell_type": "code",
   "execution_count": 28,
   "metadata": {},
   "outputs": [
    {
     "name": "stdout",
     "output_type": "stream",
     "text": [
      "W11_1\n",
      "0.65013881818996\n",
      "W12_1\n",
      "-0.5025412757179926\n",
      "b1_1\n",
      "0.22180439184324274\n",
      "W21_1\n",
      "2.1426115803765735\n",
      "W22_1\n",
      "0.12241722719028159\n",
      "b2_1\n",
      "-0.8174638175896954\n",
      "W11_2\n",
      "-0.23533363392613948\n",
      "W12_2\n",
      "-2.018202833417803\n",
      "b2_2\n",
      "1.7731404211393262\n"
     ]
    },
    {
     "data": {
      "image/png": "[encoded data removed]",
      "text/plain": [
       "<Figure size 432x288 with 1 Axes>"
      ]
     },
     "metadata": {
      "needs_background": "light"
     },
     "output_type": "display_data"
    }
   ],
   "source": [
    "mini_batch(X,y)"
   ]
  },
  {
   "cell_type": "code",
   "execution_count": 19,
   "metadata": {},
   "outputs": [
    {
     "data": {
      "text/plain": [
       "[([0, 0], 0), ([0, 1], 1)]"
      ]
     },
     "execution_count": 19,
     "metadata": {},
     "output_type": "execute_result"
    }
   ],
   "source": [
    "a = list(zip(X, y))\n",
    "a[0:2]"
   ]
  }
 ],
 "metadata": {
  "kernelspec": {
   "display_name": "Python 3.9.12 ('base')",
   "language": "python",
   "name": "python3"
  },
  "language_info": {
   "codemirror_mode": {
    "name": "ipython",
    "version": 3
   },
   "file_extension": ".py",
   "mimetype": "text/x-python",
   "name": "python",
   "nbconvert_exporter": "python",
   "pygments_lexer": "ipython3",
   "version": "3.9.12"
  },
  "orig_nbformat": 4,
  "vscode": {
   "interpreter": {
    "hash": "2694cdbf4718a5ec247b545273d596d40a2acbca35541806ef80a95b7d0be348"
   }
  }
 },
 "nbformat": 4,
 "nbformat_minor": 2
}
