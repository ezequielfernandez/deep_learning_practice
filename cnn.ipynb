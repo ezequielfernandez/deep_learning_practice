{
 "cells": [
  {
   "cell_type": "code",
   "execution_count": 99,
   "metadata": {},
   "outputs": [],
   "source": [
    "import torch\n",
    "import torchvision\n",
    "import numpy as np\n",
    "import random\n",
    "import matplotlib.pyplot as plt\n",
    "from torchsummary import summary\n",
    "import math\n",
    "from tqdm import tqdm # <- para graficar la barra de avance\n"
   ]
  },
  {
   "cell_type": "code",
   "execution_count": 95,
   "metadata": {},
   "outputs": [],
   "source": [
    "device = \"cuda\" if torch.cuda.is_available() else \"cpu\""
   ]
  },
  {
   "cell_type": "code",
   "execution_count": 56,
   "metadata": {},
   "outputs": [],
   "source": [
    "# primero creamos el dataset\n",
    "train_dataset = torchvision.datasets.MNIST('../data', train=True, download=True,\n",
    "                       transform=torchvision.transforms.Compose([\n",
    "                            torchvision.transforms.ToTensor()#,#<---------------- esto es GLORIOSO!!\n",
    "                            #torchvision.transforms.Normalize((0.1307,), (0.3081,))\n",
    "                            ])\n",
    "                      )\n",
    "\n",
    "test_dataset = torchvision.datasets.MNIST('../data', train=False,\n",
    "                   transform=torchvision.transforms.Compose([\n",
    "                        torchvision.transforms.ToTensor()#, #<------------------- esto es GLORIOSO!!\n",
    "                        #torchvision.transforms.Normalize((0.1307,), (0.3081,))\n",
    "                        ])\n",
    "                     )\n",
    "\n",
    "# ahora el dataloader\n",
    "dataloader = {\n",
    "    'train': torch.utils.data.DataLoader(train_dataset, batch_size=64, shuffle=True, pin_memory=True),\n",
    "    'test': torch.utils.data.DataLoader(test_dataset, batch_size=64, shuffle=False, pin_memory=True)\n",
    "}"
   ]
  },
  {
   "cell_type": "code",
   "execution_count": 57,
   "metadata": {},
   "outputs": [
    {
     "name": "stdout",
     "output_type": "stream",
     "text": [
      "<class 'dict'>\n",
      "<class 'torch.utils.data.dataloader.DataLoader'>\n",
      "60000\n",
      "10000\n"
     ]
    }
   ],
   "source": [
    "print(type(dataloader))\n",
    "print(type(dataloader['train']))\n",
    "print(len(dataloader['train'].dataset))\n",
    "print(len(dataloader['test'].dataset))"
   ]
  },
  {
   "cell_type": "code",
   "execution_count": 210,
   "metadata": {},
   "outputs": [],
   "source": [
    "# bloque de convolución para emplear en mi red\n",
    "\n",
    "def conv_block(c_in, c_out, k=9, p=2, s=1, pk=9, ps=1, pp=2):\n",
    "    return torch.nn.Sequential(\n",
    "        torch.nn.Conv2d(c_in, c_out, k, padding=p, stride=s), # conv\n",
    "        torch.nn.Tanh(),                                      # activation\n",
    "        torch.nn.MaxPool2d(pk, stride=ps, padding=pp)         # pooling\n",
    "    )"
   ]
  },
  {
   "cell_type": "code",
   "execution_count": 211,
   "metadata": {},
   "outputs": [],
   "source": [
    "class CNN(torch.nn.Module):\n",
    "  def __init__(self, n_channels=1, n_outputs=10):\n",
    "    super().__init__()\n",
    "    self.conv1 = conv_block(n_channels, 16)\n",
    "    self.conv1_out = None\n",
    "    self.conv2 = conv_block(16, 16)\n",
    "    self.conv2_out = None\n",
    "    self.conv3 = conv_block(16, 32)\n",
    "    self.conv3_out = None\n",
    "    # self.conv4 = conv_block(128, 128)\n",
    "    # self.conv4_out = None\n",
    "    self.fc = torch.nn.Linear(512, n_outputs) # verificar la dim de la salida para calcular el tamaño de la fully conected!!\n",
    "    #self.sm = torch.nn.Softmax(dim=1)\n",
    "    \n",
    "    \n",
    "    print('Red creada')\n",
    "    print('arquitectura:')\n",
    "    print(self)\n",
    "    \n",
    "    # Me fijo en el número de capas\n",
    "    i=0\n",
    "    for layer in self.children():\n",
    "        i=i+1\n",
    "    print('Número total de capas de CNN (conv+act+polling) + finales : ', i)\n",
    "    \n",
    "    # Me fijo en el número de parámetros entrenables\n",
    "    pytorch_total_params = sum(p.numel() for p in self.parameters() if p.requires_grad)\n",
    "    print('Número total de parámetros a entrenar: ', pytorch_total_params)\n",
    "\n",
    "  def n_layers(self):\n",
    "    i=0\n",
    "    for layer in self.children():\n",
    "        i=i+1\n",
    "\n",
    "    return i\n",
    "\n",
    "  def n_parameters(self):\n",
    "    pytorch_total_params = sum(p.numel() for p in self.parameters() if p.requires_grad)\n",
    "    return pytorch_total_params\n",
    "\n",
    "  def validar_dim(self, tam):\n",
    "    print(\"Validacion de dimensiones\")\n",
    "    x = torch.randn(1, 1, int(tam), int(tam))\n",
    "    print(\"Tamaño entrada: \", x.shape)\n",
    "    x = self.conv1(x)\n",
    "    print(\"Tamaño salida conv1: \", x.shape)\n",
    "    x = self.conv2(x)\n",
    "    print(\"Tamaño salida conv2: \", x.shape)\n",
    "\n",
    "    x = self.conv3(x)\n",
    "    print(\"Tamaño salida conv3: \", x.shape)\n",
    "\n",
    "    # x = self.conv4(x)\n",
    "    # print(\"Tamaño salida conv4: \", x.shape)\n",
    "\n",
    "    x = x.view(x.shape[0], -1)\n",
    "    print(\"Tamaño imagen vectorizada: \", x.shape)\n",
    "    x = self.fc(x)\n",
    "    print(\"Tamaño salida fc (nro clases): \", x.shape)\n",
    "\n",
    "  def forward(self, x):\n",
    "    self.conv1_out = self.conv1(x)\n",
    "    self.conv2_out = self.conv2(self.conv1_out)\n",
    "    self.conv3_out = self.conv3(self.conv2_out)\n",
    "    # self.conv4_out = self.conv4(self.conv3_out)\n",
    "    y = self.conv3_out.view(self.conv3_out.shape[0], -1)\n",
    "    y = self.fc(y)\n",
    "    # x = self.sm(x)\n",
    "    return y"
   ]
  },
  {
   "cell_type": "code",
   "execution_count": 101,
   "metadata": {},
   "outputs": [],
   "source": [
    "def fit(model, dataloader, epochs=15):\n",
    "    model.to(device)\n",
    "    optimizer = torch.optim.Adam(model.parameters(), lr=1e-4)\n",
    "    criterion = torch.nn.CrossEntropyLoss()\n",
    "    epoch_t_loss = []\n",
    "    epoch_v_loss = []\n",
    "    epoch_t_acc = []\n",
    "    epoch_v_acc = []\n",
    "    for epoch in range(1, epochs+1):\n",
    "        model.train()\n",
    "        train_loss, train_acc = [], []\n",
    "        bar = tqdm(dataloader['train'])\n",
    "        for batch in bar:\n",
    "            X, y = batch\n",
    "            X, y = X.to(device), y.to(device)\n",
    "            optimizer.zero_grad()\n",
    "            y_hat = model(X)\n",
    "            loss = criterion(y_hat, y)\n",
    "            loss.backward()\n",
    "            optimizer.step()\n",
    "            train_loss.append(loss.item())\n",
    "            ####\n",
    "            acc = (y == torch.argmax(y_hat, axis=1)).sum().item() / len(y)\n",
    "            train_acc.append(acc)\n",
    "            bar.set_description(f\"loss {np.mean(train_loss):.5f} acc {np.mean(train_acc):.5f}\")\n",
    "        \n",
    "        epoch_t_loss.append(np.mean(train_loss))\n",
    "        epoch_t_acc.append(np.mean(train_acc))\n",
    "\n",
    "        bar = tqdm(dataloader['test'])\n",
    "        val_loss, val_acc = [], []\n",
    "        model.eval()\n",
    "        with torch.no_grad():\n",
    "            for batch in bar:\n",
    "                X, y = batch\n",
    "                X, y = X.to(device), y.to(device)\n",
    "                y_hat = model(X)\n",
    "                loss = criterion(y_hat, y)\n",
    "                val_loss.append(loss.item())\n",
    "                acc = (y == torch.argmax(y_hat, axis=1)).sum().item() / len(y)\n",
    "                val_acc.append(acc)\n",
    "                bar.set_description(f\"val_loss {np.mean(val_loss):.5f} val_acc {np.mean(val_acc):.5f}\")\n",
    "        print(f\"Epoch {epoch}/{epochs} loss {np.mean(train_loss):.5f} val_loss {np.mean(val_loss):.5f} acc {np.mean(train_acc):.5f} val_acc {np.mean(val_acc):.5f}\")\n",
    "        \n",
    "        epoch_v_loss.append(np.mean(val_loss))\n",
    "        epoch_v_acc.append(np.mean(val_acc))\n",
    "        \n",
    "    plt.figure()\n",
    "    plt.plot(epoch_t_loss, 'r')\n",
    "    plt.plot(epoch_v_loss, 'g')\n",
    "    plt.title('loss')\n",
    "    plt.legend(['train loss', 'val loss'])\n",
    "    plt.grid()\n",
    "\n",
    "    plt.figure()\n",
    "    plt.plot(epoch_t_acc, 'r')\n",
    "    plt.plot(epoch_v_acc, 'g')\n",
    "    plt.title('acc')\n",
    "    plt.legend(['train acc', 'val acc'])\n",
    "    plt.grid()\n",
    "    plt.show()"
   ]
  },
  {
   "cell_type": "code",
   "execution_count": 102,
   "metadata": {},
   "outputs": [],
   "source": [
    "def validation(model, dataloader, epochs=15):\n",
    "    model.to(device)\n",
    "    optimizer = torch.optim.Adam(model.parameters(), lr=1e-4)\n",
    "    criterion = torch.nn.CrossEntropyLoss()\n",
    "    train_acc = []\n",
    "\n",
    "    bar = tqdm(dataloader['test'])\n",
    "    for batch in bar:\n",
    "        X, y = batch\n",
    "        X, y = X.to(device), y.to(device)\n",
    "        y_hat = model(X)\n",
    "        acc = (y == torch.argmax(y_hat, axis=1)).sum().item() / len(y)\n",
    "        train_acc.append(acc)\n",
    "        bar.set_description(f\"acc {np.mean(train_acc):.5f}\")\n",
    "        \n",
    "    v_acc  = np.mean(train_acc)\n",
    "\n",
    "    print(f\"Accuracy {np.mean(v_acc):.5f}\")\n",
    "    plt.figure()\n",
    "    plt.plot(train_acc, 'r')\n",
    "    \n",
    "    plt.title('acc')\n",
    "    plt.legend(['train_acc', 'val loss'])\n",
    "    plt.grid()\n",
    "\n",
    "    return v_acc"
   ]
  },
  {
   "cell_type": "code",
   "execution_count": 214,
   "metadata": {},
   "outputs": [],
   "source": [
    "def score(n_parameter, test_acc, n_layers):\n",
    "    print(f\"score is {n_layers * (1 / (math.log10(n_parameter)))} * accuracy\")\n",
    "    return test_acc * n_layers * (1 / (math.log10(n_parameter)))"
   ]
  },
  {
   "cell_type": "code",
   "execution_count": 212,
   "metadata": {},
   "outputs": [
    {
     "name": "stdout",
     "output_type": "stream",
     "text": [
      "Red creada\n",
      "arquitectura:\n",
      "CNN(\n",
      "  (conv1): Sequential(\n",
      "    (0): Conv2d(1, 16, kernel_size=(9, 9), stride=(1, 1), padding=(2, 2))\n",
      "    (1): Tanh()\n",
      "    (2): MaxPool2d(kernel_size=9, stride=1, padding=2, dilation=1, ceil_mode=False)\n",
      "  )\n",
      "  (conv2): Sequential(\n",
      "    (0): Conv2d(16, 16, kernel_size=(9, 9), stride=(1, 1), padding=(2, 2))\n",
      "    (1): Tanh()\n",
      "    (2): MaxPool2d(kernel_size=9, stride=1, padding=2, dilation=1, ceil_mode=False)\n",
      "  )\n",
      "  (conv3): Sequential(\n",
      "    (0): Conv2d(16, 32, kernel_size=(9, 9), stride=(1, 1), padding=(2, 2))\n",
      "    (1): Tanh()\n",
      "    (2): MaxPool2d(kernel_size=9, stride=1, padding=2, dilation=1, ceil_mode=False)\n",
      "  )\n",
      "  (fc): Linear(in_features=512, out_features=10, bias=True)\n",
      ")\n",
      "Número total de capas de CNN (conv+act+polling) + finales :  4\n",
      "Número total de parámetros a entrenar:  68698\n",
      "Validacion de dimensiones\n",
      "Tamaño entrada:  torch.Size([1, 1, 28, 28])\n",
      "Tamaño salida conv1:  torch.Size([1, 16, 20, 20])\n",
      "Tamaño salida conv2:  torch.Size([1, 16, 12, 12])\n",
      "Tamaño salida conv3:  torch.Size([1, 32, 4, 4])\n",
      "Tamaño imagen vectorizada:  torch.Size([1, 512])\n",
      "Tamaño salida fc (nro clases):  torch.Size([1, 10])\n"
     ]
    }
   ],
   "source": [
    "model = CNN()\n",
    "model.validar_dim(28)"
   ]
  },
  {
   "cell_type": "code",
   "execution_count": 213,
   "metadata": {},
   "outputs": [
    {
     "name": "stderr",
     "output_type": "stream",
     "text": [
      "loss 0.54131 acc 0.84691: 100%|██████████| 938/938 [01:12<00:00, 12.99it/s]\n",
      "val_loss 0.13803 val_acc 0.95930: 100%|██████████| 157/157 [00:06<00:00, 23.99it/s]\n"
     ]
    },
    {
     "name": "stdout",
     "output_type": "stream",
     "text": [
      "Epoch 1/1 loss 0.54131 val_loss 0.13803 acc 0.84691 val_acc 0.95930\n"
     ]
    },
    {
     "data": {
      "image/png": "[encoded data removed]",
      "text/plain": [
       "<Figure size 432x288 with 1 Axes>"
      ]
     },
     "metadata": {
      "needs_background": "light"
     },
     "output_type": "display_data"
    },
    {
     "data": {
      "image/png": "[encoded data removed]",
      "text/plain": [
       "<Figure size 432x288 with 1 Axes>"
      ]
     },
     "metadata": {
      "needs_background": "light"
     },
     "output_type": "display_data"
    },
    {
     "name": "stderr",
     "output_type": "stream",
     "text": [
      "acc 0.95930: 100%|██████████| 157/157 [00:06<00:00, 23.88it/s]\n"
     ]
    },
    {
     "name": "stdout",
     "output_type": "stream",
     "text": [
      "Accuracy 0.95930\n",
      "Score 0.79331\n"
     ]
    },
    {
     "data": {
      "image/png": "[encoded data removed]",
      "text/plain": [
       "<Figure size 432x288 with 1 Axes>"
      ]
     },
     "metadata": {
      "needs_background": "light"
     },
     "output_type": "display_data"
    }
   ],
   "source": [
    "fit(model, dataloader, epochs=1)\n",
    "accuracy = validation(model, dataloader)\n",
    "\n",
    "s = score(model.n_parameters(), accuracy, model.n_layers())\n",
    "\n",
    "print(f\"Score {s:.5f}\")\n"
   ]
  },
  {
   "cell_type": "code",
   "execution_count": 87,
   "metadata": {},
   "outputs": [
    {
     "name": "stdout",
     "output_type": "stream",
     "text": [
      "torch.Size([1, 28, 28])\n",
      "tensor(0.)\n",
      "tensor(1.)\n",
      "tensor(0.)\n"
     ]
    },
    {
     "data": {
      "image/png": "[encoded data removed]",
      "text/plain": [
       "<Figure size 432x288 with 1 Axes>"
      ]
     },
     "metadata": {
      "needs_background": "light"
     },
     "output_type": "display_data"
    },
    {
     "name": "stdout",
     "output_type": "stream",
     "text": [
      "Tamaño imagen de entrada a red:  torch.Size([1, 1, 28, 28])\n",
      "Predición del modelo:\n",
      "tensor([[ 2.3817, -4.2330, -0.3555, -1.4387, -0.3231,  2.4547, 10.8524, -5.4744,\n",
      "         -0.6243, -7.2804]])\n",
      "\n",
      "softmax de predicción:\n",
      "tensor([[2.0942e-04, 2.8075e-07, 1.3561e-05, 4.5902e-06, 1.4007e-05, 2.2528e-04,\n",
      "         9.9952e-01, 8.1127e-08, 1.0364e-05, 1.3331e-08]])\n",
      "\n",
      "El numero es un:  6\n"
     ]
    }
   ],
   "source": [
    "# corremos 1 dato, a ver como lo clasifica...\n",
    "# generamos un batch del dataloader\n",
    "test_features, test_labels = next(iter(dataloader['test']))\n",
    "\n",
    "# item a usar k\n",
    "k = 50\n",
    "\n",
    "# verifico las dimensiones y los valores que toma algun pixel.\n",
    "samp_img = test_features[k]\n",
    "print(samp_img.shape)\n",
    "print(samp_img[0][0][0])\n",
    "print(torch.max(samp_img))\n",
    "print(torch.min(samp_img))\n",
    "\n",
    "# ploteo la imagen\n",
    "plt.imshow(samp_img.squeeze(), cmap='gray')\n",
    "plt.show()\n",
    "\n",
    "# preparo para pasarla a la red (model) asi predice.\n",
    "samp_imp = samp_img.unsqueeze(0) # agrego la batch dim\n",
    "samp_img = samp_img.unsqueeze(0).to(device)\n",
    "print('Tamaño imagen de entrada a red: ', samp_img.shape)\n",
    "\n",
    "# la paso al modelo\n",
    "model.eval()\n",
    "y_hat = model(samp_img)\n",
    "print('Predición del modelo:')\n",
    "print(y_hat.detach())\n",
    "print()\n",
    "print('softmax de predicción:')\n",
    "print(torch.nn.functional.softmax(y_hat, dim=1).detach())\n",
    "print()\n",
    "print(f'El numero es un: ', torch.argmax(y_hat, axis=1).item())"
   ]
  }
 ],
 "metadata": {
  "kernelspec": {
   "display_name": "Python 3.9.12 ('base')",
   "language": "python",
   "name": "python3"
  },
  "language_info": {
   "codemirror_mode": {
    "name": "ipython",
    "version": 3
   },
   "file_extension": ".py",
   "mimetype": "text/x-python",
   "name": "python",
   "nbconvert_exporter": "python",
   "pygments_lexer": "ipython3",
   "version": "3.9.12"
  },
  "orig_nbformat": 4,
  "vscode": {
   "interpreter": {
    "hash": "2694cdbf4718a5ec247b545273d596d40a2acbca35541806ef80a95b7d0be348"
   }
  }
 },
 "nbformat": 4,
 "nbformat_minor": 2
}
