{
  "nbformat": 4,
  "nbformat_minor": 0,
  "metadata": {
    "colab": {
      "provenance": []
    },
    "kernelspec": {
      "name": "python3",
      "display_name": "Python 3"
    },
    "language_info": {
      "name": "python"
    }
  },
  "cells": [
    {
      "cell_type": "code",
      "execution_count": 8,
      "metadata": {
        "id": "zVXNEEA4wI8M"
      },
      "outputs": [],
      "source": [
        "import numpy as np\n",
        "from matplotlib import pyplot as plt"
      ]
    },
    {
      "cell_type": "code",
      "source": [
        "def sigmoid(x):\n",
        "  return 1 / (1 + np.exp(-x))"
      ],
      "metadata": {
        "id": "jD5VVi_awKl2"
      },
      "execution_count": 9,
      "outputs": []
    },
    {
      "cell_type": "code",
      "source": [
        "X = np.array([[0,0],[0,1],[1,0],[1,1]])\n",
        "y = [0,1,1,0]"
      ],
      "metadata": {
        "id": "HiHf66mZwLud"
      },
      "execution_count": 10,
      "outputs": []
    },
    {
      "cell_type": "code",
      "source": [
        "batch_size=2\n",
        "n = 4\n",
        "n_epochs = 20000\n",
        "lr = 0.1\n",
        "\n",
        "W1_1 = np.random.uniform(0, 1, size=3)\n",
        "W1_2 = np.random.uniform(0, 1, size=3)\n",
        "W2_1 = np.random.uniform(0, 1, size=3)\n",
        "\n",
        "for epoch in range(n_epochs):\n",
        "\n",
        "  mse=0\n",
        "  \n",
        "  idx = np.random.permutation(n)\n",
        "\n",
        "  for batch_start in range(0,n,batch_size):\n",
        "      batch_end = batch_start + batch_size\n",
        "      \n",
        "      x_batch = X[batch_start:batch_end]\n",
        "      y_batch = y[batch_start:batch_end]\n",
        "\n",
        "      x_batch=np.append(x_batch, np.ones(shape=(x_batch.shape[0],1)), axis = 1)\n",
        "\n",
        "      z1 = x_batch @ W1_1.T\n",
        "      a1 = sigmoid(z1).reshape(-1,1)\n",
        "\n",
        "      z2 = x_batch @ W1_2.T\n",
        "      a2 = sigmoid(z2).reshape(-1,1)\n",
        "\n",
        "      x1_2 = np.concatenate([a1,a2, np.ones(shape=(2,1))],axis=1)\n",
        "      z3 = x1_2 @ W2_1.T\n",
        "      a3 = sigmoid(z3)\n",
        "\n",
        "      prediction = a3\n",
        "\n",
        "      error = y_batch - prediction\n",
        "      mse = mse + np.power(error,2).mean()\n",
        "      \n",
        "      grad_W2_1 = -2 * (error * sigmoid(z3) * (1-sigmoid(z3))).reshape(-1,1) * x1_2\n",
        "      grad_W1_2 = -2 * (error * sigmoid(z3) * (1-sigmoid(z3)) * sigmoid(z2) * (1-sigmoid(z2))*W2_1[1]).reshape(-1,1) * x_batch\n",
        "      grad_W1_1 = -2 * (error * sigmoid(z3) * (1-sigmoid(z3)) * sigmoid(z1) * (1-sigmoid(z1))*W2_1[0]).reshape(-1,1) * x_batch\n",
        "\n",
        "      # Back propagation\n",
        "      W2_1 = W2_1 - (lr * grad_W2_1.mean(axis=0))\n",
        "      W1_2 = W1_2 - (lr * grad_W1_2.mean(axis=0))\n",
        "      W1_1 = W1_1 - (lr * grad_W1_1.mean(axis=0))\n",
        "  \n",
        "  if (epoch % (n_epochs/10)) == 0:\n",
        "    print(\"Epoch \",epoch,\" MSE: \",mse)"
      ],
      "metadata": {
        "colab": {
          "base_uri": "https://localhost:8080/"
        },
        "id": "GxhPtiCxwWbl",
        "outputId": "90e16109-23b1-4c2d-cf02-25f91bd05d3d"
      },
      "execution_count": 13,
      "outputs": [
        {
          "output_type": "stream",
          "name": "stdout",
          "text": [
            "Epoch  0  MSE:  0.6161287549546199\n",
            "Epoch  2000  MSE:  0.4419398651069944\n",
            "Epoch  4000  MSE:  0.1665696527038576\n",
            "Epoch  6000  MSE:  0.020773020269552692\n",
            "Epoch  8000  MSE:  0.009260595722872758\n",
            "Epoch  10000  MSE:  0.005771581575789891\n",
            "Epoch  12000  MSE:  0.004141770209482915\n",
            "Epoch  14000  MSE:  0.0032101742796231698\n",
            "Epoch  16000  MSE:  0.0026114126416511515\n",
            "Epoch  18000  MSE:  0.002195873236887679\n"
          ]
        }
      ]
    },
    {
      "cell_type": "code",
      "source": [
        "for batch_start in range(0,n,batch_size):\n",
        "      batch_end = batch_start + batch_size\n",
        "      \n",
        "      x_batch = X[batch_start:batch_end]\n",
        "      y_batch = y[batch_start:batch_end]\n",
        "\n",
        "      x_batch=np.append(x_batch, np.ones(shape=(x_batch.shape[0],1)), axis = 1)\n",
        "\n",
        "      z1 = x_batch @ W1_1.T\n",
        "      a1 = sigmoid(z1).reshape(-1,1)\n",
        "\n",
        "      z2 = x_batch @ W1_2.T\n",
        "      a2 = sigmoid(z2).reshape(-1,1)\n",
        "\n",
        "      x1_2 = np.concatenate([a1,a2, np.ones(shape=(2,1))],axis=1)\n",
        "      z3 = x1_2 @ W2_1.T\n",
        "      a3 = sigmoid(z3)\n",
        "      prediction = a3\n",
        "\n",
        "      print(f\"Reales {y_batch} | Predicciones {prediction}\")\n",
        "      "
      ],
      "metadata": {
        "colab": {
          "base_uri": "https://localhost:8080/"
        },
        "id": "b8MWbWa53vv0",
        "outputId": "5c85bf59-97d6-4810-8e93-bb98daae0b78"
      },
      "execution_count": null,
      "outputs": [
        {
          "output_type": "stream",
          "name": "stdout",
          "text": [
            "Reales [0, 1] | Predicciones [0.08194487 0.91351212]\n",
            "Reales [1, 0] | Predicciones [0.91338171 0.09981008]\n"
          ]
        }
      ]
    },
    {
      "cell_type": "code",
      "source": [],
      "metadata": {
        "id": "niyR-7JlFTpS"
      },
      "execution_count": null,
      "outputs": []
    }
  ]
}