{
 "cells": [
  {
   "cell_type": "code",
   "execution_count": 1,
   "metadata": {},
   "outputs": [],
   "source": [
    "import torch\n",
    "import torchvision\n",
    "import numpy as np\n",
    "import random\n",
    "import matplotlib.pyplot as plt\n",
    "from torchsummary import summary\n",
    "import math\n",
    "from tqdm import tqdm # <- para graficar la barra de avance\n",
    "import pickle"
   ]
  },
  {
   "cell_type": "code",
   "execution_count": 2,
   "metadata": {},
   "outputs": [],
   "source": [
    "device = \"cuda\" if torch.cuda.is_available() else \"cpu\""
   ]
  },
  {
   "cell_type": "code",
   "execution_count": 105,
   "metadata": {},
   "outputs": [],
   "source": [
    "train = pickle.load( open( \"train.pkl\", \"rb\" ) )\n",
    "y_train = pickle.load( open( \"train_label.pkl\", \"rb\" ) )\n",
    "\n",
    "test = pickle.load( open( \"test.pkl\", \"rb\" ) )\n",
    "y_test = pickle.load( open( \"test_label.pkl\", \"rb\" ) )\n",
    "\n",
    "val = pickle.load( open( \"val.pkl\", \"rb\" ) )\n",
    "y_val = pickle.load( open( \"val_label.pkl\", \"rb\" ) )"
   ]
  },
  {
   "cell_type": "code",
   "execution_count": 99,
   "metadata": {},
   "outputs": [
    {
     "data": {
      "text/plain": [
       "torch.Size([56000, 28, 28])"
      ]
     },
     "execution_count": 99,
     "metadata": {},
     "output_type": "execute_result"
    }
   ],
   "source": [
    "t = torch.Tensor(train)\n",
    "t.permute(1, 0, 2).shape\n",
    "\n",
    "t.shape\n"
   ]
  },
  {
   "cell_type": "code",
   "execution_count": 147,
   "metadata": {},
   "outputs": [],
   "source": [
    "train = torch.Tensor(train).type(torch.FloatTensor)\n",
    "y_train = torch.Tensor(y_train).type(torch.FloatTensor)\n",
    "\n",
    "test = torch.Tensor(test).type(torch.FloatTensor)\n",
    "y_test = torch.Tensor(y_test).type(torch.FloatTensor)\n",
    "\n",
    "val = torch.Tensor(val).type(torch.FloatTensor)\n",
    "y_val = torch.Tensor(y_val).type(torch.FloatTensor)"
   ]
  },
  {
   "cell_type": "code",
   "execution_count": 148,
   "metadata": {},
   "outputs": [],
   "source": [
    "class data_set(torch.utils.data.Dataset):\n",
    "    def __init__(self,X,Y):\n",
    "        self.X = X                           # set data\n",
    "        self.Y = Y                           # set lables\n",
    "\n",
    "    def __len__(self):\n",
    "        return len(self.X)                   # return length\n",
    "\n",
    "    def __getitem__(self, idx):\n",
    "        return self.X[idx], self.Y[idx]"
   ]
  },
  {
   "cell_type": "code",
   "execution_count": 149,
   "metadata": {},
   "outputs": [],
   "source": [
    "training_dataset = data_set(train, y_train)\n",
    "test_dataset = data_set(test, y_test)\n",
    "val_dataset = data_set(val, y_val)\n",
    "\n",
    "\n",
    "# ahora el dataloader\n",
    "dataloader = {\n",
    "    'train': torch.utils.data.DataLoader(training_dataset, batch_size=64, shuffle=True, pin_memory=True),\n",
    "    'test': torch.utils.data.DataLoader(test_dataset, batch_size=64, shuffle=False, pin_memory=True),\n",
    "    'val': torch.utils.data.DataLoader(val_dataset, batch_size=64, shuffle=True, pin_memory=True)\n",
    "}"
   ]
  },
  {
   "cell_type": "code",
   "execution_count": 150,
   "metadata": {},
   "outputs": [
    {
     "name": "stdout",
     "output_type": "stream",
     "text": [
      "<class 'dict'>\n",
      "<class 'torch.utils.data.dataloader.DataLoader'>\n",
      "56000\n",
      "7000\n"
     ]
    }
   ],
   "source": [
    "print(type(dataloader))\n",
    "print(type(dataloader['train']))\n",
    "print(len(dataloader['train'].dataset))\n",
    "print(len(dataloader['test'].dataset))"
   ]
  },
  {
   "cell_type": "code",
   "execution_count": 151,
   "metadata": {},
   "outputs": [],
   "source": [
    "# bloque de convolución para emplear en mi red\n",
    "\n",
    "def conv_block(c_in, c_out, k=5, p=2, s=1, pk=5, ps=1, pp=2):\n",
    "    return torch.nn.Sequential(\n",
    "        torch.nn.Conv2d(c_in, c_out, k, padding=p, stride=s), # conv\n",
    "        torch.nn.Tanh(),                                      # activation\n",
    "        torch.nn.MaxPool2d(pk, stride=ps, padding=pp)         # pooling\n",
    "    )"
   ]
  },
  {
   "cell_type": "code",
   "execution_count": 153,
   "metadata": {},
   "outputs": [],
   "source": [
    "class CNN(torch.nn.Module):\n",
    "  def __init__(self, n_channels=1, n_outputs=10):\n",
    "    super().__init__()\n",
    "    self.conv1 = conv_block(n_channels, 16)\n",
    "    self.conv1_out = None\n",
    "    self.conv2 = conv_block(16, 8)\n",
    "    self.conv2_out = None\n",
    "    self.conv3 = conv_block(8, 4)\n",
    "    self.conv3_out = None\n",
    "    self.conv4 = conv_block(4, 4)\n",
    "    self.conv4_out = None\n",
    "    self.conv5 = conv_block(4, 4)\n",
    "    self.conv5_out = None\n",
    "    self.conv6 = conv_block(4, 4)\n",
    "    self.conv6_out = None\n",
    "    self.conv7 = conv_block(4, 4)\n",
    "    self.conv7_out = None\n",
    "    self.conv8 = conv_block(4, 4)\n",
    "    self.conv8_out = None\n",
    "    self.conv9 = conv_block(4, 4)\n",
    "    self.conv9_out = None\n",
    "    self.conv10 = conv_block(4, 4)\n",
    "    self.conv10_out = None\n",
    "    self.conv11 = conv_block(4, 4)\n",
    "    self.conv11_out = None\n",
    "    self.conv12 = conv_block(4, 4)\n",
    "    self.conv12_out = None\n",
    "    self.conv13 = conv_block(4, 4)\n",
    "    self.conv13_out = None\n",
    "    self.fc = torch.nn.Linear(3136, n_outputs) # verificar la dim de la salida para calcular el tamaño de la fully conected!!\n",
    "    \n",
    "    \n",
    "    print('Red creada')\n",
    "    print('arquitectura:')\n",
    "    print(self)\n",
    "    \n",
    "    # Me fijo en el número de capas\n",
    "    i=0\n",
    "    for layer in self.children():\n",
    "        i=i+1\n",
    "    print('Número total de capas de CNN (conv+act+polling) + finales : ', i)\n",
    "    \n",
    "    # Me fijo en el número de parámetros entrenables\n",
    "    pytorch_total_params = sum(p.numel() for p in self.parameters() if p.requires_grad)\n",
    "    print('Número total de parámetros a entrenar: ', pytorch_total_params)\n",
    "\n",
    "  def n_layers(self):\n",
    "    i=0\n",
    "    for layer in self.children():\n",
    "        i=i+1\n",
    "\n",
    "    return i\n",
    "\n",
    "  def n_parameters(self):\n",
    "    pytorch_total_params = sum(p.numel() for p in self.parameters() if p.requires_grad)\n",
    "    return pytorch_total_params\n",
    "\n",
    "  def validar_dim(self, tam):\n",
    "    print(\"Validacion de dimensiones\")\n",
    "    x = torch.randn(1, 1, int(tam), int(tam))\n",
    "    print(\"Tamaño entrada: \", x.shape)\n",
    "    x = self.conv1(x)\n",
    "    print(\"Tamaño salida conv1: \", x.shape)\n",
    "    x = self.conv2(x)\n",
    "    print(\"Tamaño salida conv2: \", x.shape)\n",
    "\n",
    "    x = self.conv3(x)\n",
    "    print(\"Tamaño salida conv3: \", x.shape)\n",
    "\n",
    "    x = self.conv4(x)\n",
    "    print(\"Tamaño salida conv4: \", x.shape)\n",
    "\n",
    "    x = self.conv5(x)\n",
    "    print(\"Tamaño salida conv5: \", x.shape)\n",
    "\n",
    "    x = self.conv6(x)\n",
    "    print(\"Tamaño salida conv6: \", x.shape)\n",
    "\n",
    "    x = self.conv7(x)\n",
    "    print(\"Tamaño salida conv7: \", x.shape)\n",
    "\n",
    "    x = self.conv8(x)\n",
    "    print(\"Tamaño salida conv8: \", x.shape)\n",
    "\n",
    "    x = self.conv9(x)\n",
    "    print(\"Tamaño salida conv9: \", x.shape)\n",
    "\n",
    "    x = self.conv10(x)\n",
    "    print(\"Tamaño salida conv10: \", x.shape)\n",
    "\n",
    "    x = self.conv11(x)\n",
    "    print(\"Tamaño salida conv11: \", x.shape)\n",
    "\n",
    "    x = self.conv12(x)\n",
    "    print(\"Tamaño salida conv12: \", x.shape)\n",
    "\n",
    "    x = self.conv13(x)\n",
    "    print(\"Tamaño salida conv13: \", x.shape)\n",
    "\n",
    "    x = x.view(x.shape[0], -1)\n",
    "    print(\"Tamaño imagen vectorizada: \", x.shape)\n",
    "    x = self.fc(x)\n",
    "    print(\"Tamaño salida fc (nro clases): \", x.shape)\n",
    "\n",
    "  def forward(self, x):\n",
    "    self.conv1_out = self.conv1(x)\n",
    "    self.conv2_out = self.conv2(self.conv1_out)\n",
    "    self.conv3_out = self.conv3(self.conv2_out)\n",
    "    self.conv4_out = self.conv4(self.conv3_out)\n",
    "    self.conv5_out = self.conv5(self.conv4_out)\n",
    "    self.conv6_out = self.conv6(self.conv5_out)\n",
    "    self.conv7_out = self.conv7(self.conv6_out)\n",
    "    self.conv8_out = self.conv8(self.conv7_out)\n",
    "    self.conv9_out = self.conv9(self.conv8_out)\n",
    "    self.conv10_out = self.conv10(self.conv9_out)\n",
    "    self.conv11_out = self.conv11(self.conv10_out)\n",
    "    self.conv12_out = self.conv12(self.conv11_out)\n",
    "    self.conv13_out = self.conv13(self.conv12_out)\n",
    "    # self.conv4_out = self.conv4(self.conv3_out)\n",
    "    y = self.conv13_out.view(self.conv13_out.shape[0], -1)\n",
    "    y = self.fc(y)\n",
    "    # x = self.sm(x)\n",
    "    return y"
   ]
  },
  {
   "cell_type": "code",
   "execution_count": 161,
   "metadata": {},
   "outputs": [],
   "source": [
    "def fit(model, dataloader, epochs=15):\n",
    "    model.to(device)\n",
    "    optimizer = torch.optim.Adam(model.parameters(), lr=1e-4)\n",
    "    criterion = torch.nn.CrossEntropyLoss()\n",
    "    epoch_t_loss = []\n",
    "    epoch_v_loss = []\n",
    "    epoch_t_acc = []\n",
    "    epoch_v_acc = []\n",
    "    for epoch in range(1, epochs+1):\n",
    "        model.train()\n",
    "        train_loss, train_acc = [], []\n",
    "        bar = tqdm(dataloader['train'])\n",
    "        for batch in bar:\n",
    "            X, y = batch\n",
    "            X, y = X.to(device), y.to(device)\n",
    "            optimizer.zero_grad()\n",
    "            X = X.unsqueeze(0)\n",
    "            X = X.permute(1, 0, 2, 3)\n",
    "            y_hat = model(X)\n",
    "            loss = criterion(y_hat, y.type(torch.LongTensor))\n",
    "            loss.backward()\n",
    "            optimizer.step()\n",
    "            train_loss.append(loss.item())\n",
    "            ####\n",
    "            acc = (y == torch.argmax(y_hat, axis=1)).sum().item() / len(y)\n",
    "            train_acc.append(acc)\n",
    "            bar.set_description(f\"loss {np.mean(train_loss):.5f} acc {np.mean(train_acc):.5f}\")\n",
    "        \n",
    "        print(f\"Epoch {epoch}/{epochs} loss {np.mean(train_loss):.5f} acc {np.mean(train_acc):.5f}\")\n",
    "        epoch_t_loss.append(np.mean(train_loss))\n",
    "        epoch_t_acc.append(np.mean(train_acc))\n",
    "        \n",
    "        \n",
    "    plt.figure()\n",
    "    plt.plot(epoch_t_loss, 'r')\n",
    "    plt.title('loss')\n",
    "    plt.legend(['train loss'])\n",
    "    plt.grid()\n",
    "\n",
    "    plt.figure()\n",
    "    plt.plot(epoch_t_acc, 'r')\n",
    "    plt.title('acc')\n",
    "    plt.legend(['train acc'])\n",
    "    plt.grid()\n",
    "    plt.show()"
   ]
  },
  {
   "cell_type": "code",
   "execution_count": 163,
   "metadata": {},
   "outputs": [],
   "source": [
    "def test_acc(model, dataloader):\n",
    "    model.to(device)\n",
    "    optimizer = torch.optim.Adam(model.parameters(), lr=1e-4)\n",
    "    criterion = torch.nn.CrossEntropyLoss()\n",
    "    train_acc = []\n",
    "\n",
    "    bar = tqdm(dataloader['test'])\n",
    "    for batch in bar:\n",
    "        X, y = batch\n",
    "        X = X.unsqueeze(0)\n",
    "        X = X.permute(1, 0, 2, 3)\n",
    "        X, y = X.to(device), y.to(device)\n",
    "        y_hat = model(X)\n",
    "        acc = (y == torch.argmax(y_hat, axis=1)).sum().item() / len(y)\n",
    "        train_acc.append(acc)\n",
    "        bar.set_description(f\"acc {np.mean(train_acc):.5f}\")\n",
    "        \n",
    "    v_acc  = np.mean(train_acc)\n",
    "\n",
    "    print(f\"Test accuracy {np.mean(v_acc):.5f}\")\n",
    "    plt.figure()\n",
    "    plt.plot(train_acc, 'r')\n",
    "\n",
    "\n",
    "    return v_acc"
   ]
  },
  {
   "cell_type": "code",
   "execution_count": 114,
   "metadata": {},
   "outputs": [],
   "source": [
    "def score(n_parameter, test_acc, n_layers):\n",
    "    print(f\"score is {n_layers * (1 / (math.log10(n_parameter)))} * accuracy\")\n",
    "    return test_acc * n_layers * (1 / (math.log10(n_parameter)))"
   ]
  },
  {
   "cell_type": "code",
   "execution_count": 155,
   "metadata": {},
   "outputs": [
    {
     "name": "stdout",
     "output_type": "stream",
     "text": [
      "Red creada\n",
      "arquitectura:\n",
      "CNN(\n",
      "  (conv1): Sequential(\n",
      "    (0): Conv2d(1, 16, kernel_size=(5, 5), stride=(1, 1), padding=(2, 2))\n",
      "    (1): Tanh()\n",
      "    (2): MaxPool2d(kernel_size=5, stride=1, padding=2, dilation=1, ceil_mode=False)\n",
      "  )\n",
      "  (conv2): Sequential(\n",
      "    (0): Conv2d(16, 8, kernel_size=(5, 5), stride=(1, 1), padding=(2, 2))\n",
      "    (1): Tanh()\n",
      "    (2): MaxPool2d(kernel_size=5, stride=1, padding=2, dilation=1, ceil_mode=False)\n",
      "  )\n",
      "  (conv3): Sequential(\n",
      "    (0): Conv2d(8, 4, kernel_size=(5, 5), stride=(1, 1), padding=(2, 2))\n",
      "    (1): Tanh()\n",
      "    (2): MaxPool2d(kernel_size=5, stride=1, padding=2, dilation=1, ceil_mode=False)\n",
      "  )\n",
      "  (conv4): Sequential(\n",
      "    (0): Conv2d(4, 4, kernel_size=(5, 5), stride=(1, 1), padding=(2, 2))\n",
      "    (1): Tanh()\n",
      "    (2): MaxPool2d(kernel_size=5, stride=1, padding=2, dilation=1, ceil_mode=False)\n",
      "  )\n",
      "  (conv5): Sequential(\n",
      "    (0): Conv2d(4, 4, kernel_size=(5, 5), stride=(1, 1), padding=(2, 2))\n",
      "    (1): Tanh()\n",
      "    (2): MaxPool2d(kernel_size=5, stride=1, padding=2, dilation=1, ceil_mode=False)\n",
      "  )\n",
      "  (conv6): Sequential(\n",
      "    (0): Conv2d(4, 4, kernel_size=(5, 5), stride=(1, 1), padding=(2, 2))\n",
      "    (1): Tanh()\n",
      "    (2): MaxPool2d(kernel_size=5, stride=1, padding=2, dilation=1, ceil_mode=False)\n",
      "  )\n",
      "  (conv7): Sequential(\n",
      "    (0): Conv2d(4, 4, kernel_size=(5, 5), stride=(1, 1), padding=(2, 2))\n",
      "    (1): Tanh()\n",
      "    (2): MaxPool2d(kernel_size=5, stride=1, padding=2, dilation=1, ceil_mode=False)\n",
      "  )\n",
      "  (conv8): Sequential(\n",
      "    (0): Conv2d(4, 4, kernel_size=(5, 5), stride=(1, 1), padding=(2, 2))\n",
      "    (1): Tanh()\n",
      "    (2): MaxPool2d(kernel_size=5, stride=1, padding=2, dilation=1, ceil_mode=False)\n",
      "  )\n",
      "  (conv9): Sequential(\n",
      "    (0): Conv2d(4, 4, kernel_size=(5, 5), stride=(1, 1), padding=(2, 2))\n",
      "    (1): Tanh()\n",
      "    (2): MaxPool2d(kernel_size=5, stride=1, padding=2, dilation=1, ceil_mode=False)\n",
      "  )\n",
      "  (conv10): Sequential(\n",
      "    (0): Conv2d(4, 4, kernel_size=(5, 5), stride=(1, 1), padding=(2, 2))\n",
      "    (1): Tanh()\n",
      "    (2): MaxPool2d(kernel_size=5, stride=1, padding=2, dilation=1, ceil_mode=False)\n",
      "  )\n",
      "  (conv11): Sequential(\n",
      "    (0): Conv2d(4, 4, kernel_size=(5, 5), stride=(1, 1), padding=(2, 2))\n",
      "    (1): Tanh()\n",
      "    (2): MaxPool2d(kernel_size=5, stride=1, padding=2, dilation=1, ceil_mode=False)\n",
      "  )\n",
      "  (conv12): Sequential(\n",
      "    (0): Conv2d(4, 4, kernel_size=(5, 5), stride=(1, 1), padding=(2, 2))\n",
      "    (1): Tanh()\n",
      "    (2): MaxPool2d(kernel_size=5, stride=1, padding=2, dilation=1, ceil_mode=False)\n",
      "  )\n",
      "  (conv13): Sequential(\n",
      "    (0): Conv2d(4, 4, kernel_size=(5, 5), stride=(1, 1), padding=(2, 2))\n",
      "    (1): Tanh()\n",
      "    (2): MaxPool2d(kernel_size=5, stride=1, padding=2, dilation=1, ceil_mode=False)\n",
      "  )\n",
      "  (fc): Linear(in_features=3136, out_features=10, bias=True)\n",
      ")\n",
      "Número total de capas de CNN (conv+act+polling) + finales :  14\n",
      "Número total de parámetros a entrenar:  39838\n",
      "Validacion de dimensiones\n",
      "Tamaño entrada:  torch.Size([1, 1, 28, 28])\n",
      "Tamaño salida conv1:  torch.Size([1, 16, 28, 28])\n",
      "Tamaño salida conv2:  torch.Size([1, 8, 28, 28])\n",
      "Tamaño salida conv3:  torch.Size([1, 4, 28, 28])\n",
      "Tamaño salida conv4:  torch.Size([1, 4, 28, 28])\n",
      "Tamaño salida conv5:  torch.Size([1, 4, 28, 28])\n",
      "Tamaño salida conv6:  torch.Size([1, 4, 28, 28])\n",
      "Tamaño salida conv7:  torch.Size([1, 4, 28, 28])\n",
      "Tamaño salida conv8:  torch.Size([1, 4, 28, 28])\n",
      "Tamaño salida conv9:  torch.Size([1, 4, 28, 28])\n",
      "Tamaño salida conv10:  torch.Size([1, 4, 28, 28])\n",
      "Tamaño salida conv11:  torch.Size([1, 4, 28, 28])\n",
      "Tamaño salida conv12:  torch.Size([1, 4, 28, 28])\n",
      "Tamaño salida conv13:  torch.Size([1, 4, 28, 28])\n",
      "Tamaño imagen vectorizada:  torch.Size([1, 3136])\n",
      "Tamaño salida fc (nro clases):  torch.Size([1, 10])\n"
     ]
    }
   ],
   "source": [
    "model = CNN()\n",
    "model.validar_dim(28)"
   ]
  },
  {
   "cell_type": "code",
   "execution_count": 165,
   "metadata": {},
   "outputs": [
    {
     "name": "stderr",
     "output_type": "stream",
     "text": [
      "loss 0.10964 acc 0.96430: 100%|██████████| 875/875 [02:36<00:00,  5.60it/s]\n",
      "loss 0.04776 acc 0.98438:   0%|          | 1/875 [00:00<02:19,  6.26it/s]"
     ]
    },
    {
     "name": "stdout",
     "output_type": "stream",
     "text": [
      "Epoch 1/10 loss 0.10964 acc 0.96430\n"
     ]
    },
    {
     "name": "stderr",
     "output_type": "stream",
     "text": [
      "loss 0.10008 acc 0.96730: 100%|██████████| 875/875 [02:32<00:00,  5.72it/s]\n",
      "loss 0.10700 acc 0.96875:   0%|          | 1/875 [00:00<02:19,  6.27it/s]"
     ]
    },
    {
     "name": "stdout",
     "output_type": "stream",
     "text": [
      "Epoch 2/10 loss 0.10008 acc 0.96730\n"
     ]
    },
    {
     "name": "stderr",
     "output_type": "stream",
     "text": [
      "loss 0.09663 acc 0.96975: 100%|██████████| 875/875 [02:35<00:00,  5.63it/s]\n",
      "loss 0.10719 acc 0.96875:   0%|          | 1/875 [00:00<02:40,  5.45it/s]"
     ]
    },
    {
     "name": "stdout",
     "output_type": "stream",
     "text": [
      "Epoch 3/10 loss 0.09663 acc 0.96975\n"
     ]
    },
    {
     "name": "stderr",
     "output_type": "stream",
     "text": [
      "loss 0.09198 acc 0.96996: 100%|██████████| 875/875 [02:41<00:00,  5.42it/s]\n",
      "loss 0.04934 acc 0.98438:   0%|          | 1/875 [00:00<02:34,  5.67it/s]"
     ]
    },
    {
     "name": "stdout",
     "output_type": "stream",
     "text": [
      "Epoch 4/10 loss 0.09198 acc 0.96996\n"
     ]
    },
    {
     "name": "stderr",
     "output_type": "stream",
     "text": [
      "loss 0.08908 acc 0.97146: 100%|██████████| 875/875 [02:39<00:00,  5.48it/s]\n",
      "loss 0.14210 acc 0.95312:   0%|          | 1/875 [00:00<02:23,  6.08it/s]"
     ]
    },
    {
     "name": "stdout",
     "output_type": "stream",
     "text": [
      "Epoch 5/10 loss 0.08908 acc 0.97146\n"
     ]
    },
    {
     "name": "stderr",
     "output_type": "stream",
     "text": [
      "loss 0.08446 acc 0.97304: 100%|██████████| 875/875 [02:48<00:00,  5.19it/s]\n",
      "loss 0.11380 acc 0.95312:   0%|          | 1/875 [00:00<02:40,  5.45it/s]"
     ]
    },
    {
     "name": "stdout",
     "output_type": "stream",
     "text": [
      "Epoch 6/10 loss 0.08446 acc 0.97304\n"
     ]
    },
    {
     "name": "stderr",
     "output_type": "stream",
     "text": [
      "loss 0.08047 acc 0.97409: 100%|██████████| 875/875 [02:42<00:00,  5.38it/s]\n",
      "loss 0.05333 acc 0.96875:   0%|          | 0/875 [00:00<?, ?it/s]"
     ]
    },
    {
     "name": "stdout",
     "output_type": "stream",
     "text": [
      "Epoch 7/10 loss 0.08047 acc 0.97409\n"
     ]
    },
    {
     "name": "stderr",
     "output_type": "stream",
     "text": [
      "loss 0.07944 acc 0.97425: 100%|██████████| 875/875 [02:29<00:00,  5.84it/s]\n",
      "loss 0.08245 acc 0.98438:   0%|          | 1/875 [00:00<02:23,  6.08it/s]"
     ]
    },
    {
     "name": "stdout",
     "output_type": "stream",
     "text": [
      "Epoch 8/10 loss 0.07944 acc 0.97425\n"
     ]
    },
    {
     "name": "stderr",
     "output_type": "stream",
     "text": [
      "loss 0.07557 acc 0.97580: 100%|██████████| 875/875 [02:31<00:00,  5.76it/s]\n",
      "loss 0.09287 acc 0.96875:   0%|          | 1/875 [00:00<02:23,  6.10it/s]"
     ]
    },
    {
     "name": "stdout",
     "output_type": "stream",
     "text": [
      "Epoch 9/10 loss 0.07557 acc 0.97580\n"
     ]
    },
    {
     "name": "stderr",
     "output_type": "stream",
     "text": [
      "loss 0.07545 acc 0.97554: 100%|██████████| 875/875 [02:31<00:00,  5.77it/s]"
     ]
    },
    {
     "name": "stdout",
     "output_type": "stream",
     "text": [
      "Epoch 10/10 loss 0.07545 acc 0.97554\n"
     ]
    },
    {
     "name": "stderr",
     "output_type": "stream",
     "text": [
      "\n"
     ]
    },
    {
     "data": {
      "image/png": "[encoded data removed]",
      "text/plain": [
       "<Figure size 432x288 with 1 Axes>"
      ]
     },
     "metadata": {
      "needs_background": "light"
     },
     "output_type": "display_data"
    },
    {
     "data": {
      "image/png": "[encoded data removed]",
      "text/plain": [
       "<Figure size 432x288 with 1 Axes>"
      ]
     },
     "metadata": {
      "needs_background": "light"
     },
     "output_type": "display_data"
    },
    {
     "name": "stderr",
     "output_type": "stream",
     "text": [
      "acc 0.97259: 100%|██████████| 110/110 [00:10<00:00, 10.23it/s]"
     ]
    },
    {
     "name": "stdout",
     "output_type": "stream",
     "text": [
      "Test accuracy 0.97259\n",
      "score is 3.0432814219084428 * accuracy\n",
      "Score 2.95985\n"
     ]
    },
    {
     "name": "stderr",
     "output_type": "stream",
     "text": [
      "\n"
     ]
    },
    {
     "data": {
      "image/png": "[encoded data removed]",
      "text/plain": [
       "<Figure size 432x288 with 1 Axes>"
      ]
     },
     "metadata": {
      "needs_background": "light"
     },
     "output_type": "display_data"
    }
   ],
   "source": [
    "fit(model, dataloader, epochs=10)\n",
    "accuracy = test_acc(model, dataloader)\n",
    "\n",
    "s = score(model.n_parameters(), accuracy, model.n_layers())\n",
    "\n",
    "print(f\"Score {s:.5f}\")\n"
   ]
  }
 ],
 "metadata": {
  "kernelspec": {
   "display_name": "Python 3.9.12 ('base')",
   "language": "python",
   "name": "python3"
  },
  "language_info": {
   "codemirror_mode": {
    "name": "ipython",
    "version": 3
   },
   "file_extension": ".py",
   "mimetype": "text/x-python",
   "name": "python",
   "nbconvert_exporter": "python",
   "pygments_lexer": "ipython3",
   "version": "3.9.12"
  },
  "orig_nbformat": 4,
  "vscode": {
   "interpreter": {
    "hash": "2694cdbf4718a5ec247b545273d596d40a2acbca35541806ef80a95b7d0be348"
   }
  }
 },
 "nbformat": 4,
 "nbformat_minor": 2
}
