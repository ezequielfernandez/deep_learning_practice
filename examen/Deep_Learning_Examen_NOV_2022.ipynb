{
  "cells": [
    {
      "cell_type": "markdown",
      "metadata": {
        "id": "ftXnmgdtOuZs"
      },
      "source": [
        "# Universidad de Buenos Aires\n",
        "# Deep Learning - Examen\n",
        "# Noviembre 2022\n",
        "\n"
      ]
    },
    {
      "cell_type": "markdown",
      "metadata": {
        "id": "aEx1gM2sG4OP"
      },
      "source": [
        "El examen comienza al momento de recibir este correo y la ventana de entrega estará abierta hasta el domingo 18 de diciembre a las 20:00hs. Toda comunicación con otros alumnos respecto del examen y la resolución de los ejercicios, queda estrictamente prohibida. Los exámenes serán comparados desde el punto de vista de la redacción, de los resultados y del código para determinar que el trabajo fue 100% individual y único. El examen es a libro abierto, pudiendo utilizar los contenidos vistos en clase y otra bibliografía. Todas las soluciones deben ser originales y si se toman ideas de fuentes externas deben ser correctamente citas incluyendo el correspondiente link o página de libro.\n",
        "\n",
        "El formato de entrega debe ser un “link a un colab” (compartir a las siguientes direcciones: maxit1992@gmail.com y lelectronfou@gmail.com ) o un “link a un notebook en un github público” (tanto con los resultados, cómo el código y las explicaciones deben quedar guardados y visualizables en el correspondiente link).\n"
      ]
    },
    {
      "cell_type": "markdown",
      "metadata": {
        "id": "nlfSxrehmuYW"
      },
      "source": [
        "## Ejercicio 1\n",
        "\n"
      ]
    },
    {
      "cell_type": "markdown",
      "metadata": {
        "id": "FY2z-GSXoFvq"
      },
      "source": [
        "Se quiere encontrar el máximo de la siguiente función:\n",
        "\n",
        "$z = -(x - 2)^2 - (y - 3)^2 + 4$\n",
        "\n",
        "(a) Aplicar gradiente e igualar a zero para encontrar los valores de $x$ e $y$ donde $z$ tiene un máximo. Cuál es el valor del máximo?\n",
        "\n",
        "(b) Aplicar SGD para encontrar la ubicación del máximo de manera numérica."
      ]
    },
    {
      "cell_type": "markdown",
      "metadata": {
        "id": "4CMta3Dj_Mjq"
      },
      "source": [
        "## Ejercicio 2"
      ]
    },
    {
      "cell_type": "markdown",
      "metadata": {
        "id": "C_hXG5W6KMBx"
      },
      "source": [
        "\n",
        "\n",
        "En las siguientes imágenes, se presenta la traslación de un objeto en la capa de entrada de una CNN (el 2 de las imágenes inferiores) y las neuronas que se activan a la salida de dicha CNN para 2 tipos de propiedadedes de las CNN: *Invarianza al desplazamiento (translational invariance)* y *equivariancia al desplazamiento (translational equivariance)*.\n",
        "\n",
        "\n",
        "![a](https://drive.google.com/uc?export=view&id=1buWr91SCZcx4Zx55VLpAf1mCxqVgHgci)\n",
        "\n",
        "Imagen 1\n",
        "\n",
        "\n",
        "\n",
        "\n",
        "![b](https://drive.google.com/uc?export=view&id=1FqUKjutcRL-1Vay0HYY-1tXlISCZFH02)\n",
        "\n",
        "Imagen 2\n",
        "\n",
        "\n",
        "Preguntas:\n",
        "* a) ¿Qué imagen se corresponde con cuál propiedad? \n",
        "* b) ¿Cuál/cuáles de cada capa elemental de una CNN (convolución - activación - pooling) aporta cada propiedad?\n",
        "\n",
        "\n",
        "\n"
      ]
    },
    {
      "cell_type": "markdown",
      "metadata": {
        "id": "fvsqmJwx_Rb8"
      },
      "source": [
        "## Ejercicio 3\n",
        "\n"
      ]
    },
    {
      "cell_type": "markdown",
      "metadata": {
        "id": "ABeIRvAkKLy7"
      },
      "source": [
        "\n",
        "\n",
        "Para la siguiente red neuronal recurrente, se pide expresar las ecuaciones \"*unfolded*\" de la salida de la misma y de sus estados ocultos, si el vector de entrada son 3 muestras secuenciadas de la variable $x(t)$.\n",
        "\n",
        "![b](https://drive.google.com/uc?export=view&id=1Fz46GTK7Oy_w5OEgwLCLfHFMr7b6-AnL)\n",
        "\n",
        "\n",
        "\n",
        "\n",
        "Ecuaciones de la RNN:\n",
        "\n",
        "$$ \\hat{y}(t) = w_{h1y} * h1(t) + w_{h2y} * h2(t) + by$$\n",
        "\n",
        "$$ h1(t) = w_{xh1} * x(t) + w_{h1h1} * h1(t-1) + w_{h2h1} * h2(t-1)+ bh1$$ \n",
        "$$ h2(t) = w_{xh2} * x(t) + w_{h2h2} * h2(t-1) + w_{h1h2} * h1(t-1)+ bh2 $$ \n",
        "\n"
      ]
    },
    {
      "cell_type": "markdown",
      "metadata": {
        "id": "WL2PjUnT_Uvk"
      },
      "source": [
        "## Ejercicio 4 "
      ]
    },
    {
      "cell_type": "markdown",
      "metadata": {
        "id": "73yqE_Sslwif"
      },
      "source": [
        "\n",
        "\n",
        "\n",
        "Descargar el dataset del siguiente link: https://drive.google.com/file/d/1X8_G5BpQMi-Nnbtms2RL8lcWSxzD8ixd/view?usp=sharing. El dataset son compras de productos que diferentes clientes realizaron durante un black sales. El dataset contiene información sobre las transacciones y el objetivo es poder utilizar el dataset para crear diferentes modelos que puedan predecir cuánto un cliente está dispuesto a gastar en un producto en el futuro. Particularmente, vamos a tratar este problema como una clasificación binaria donde queremos averiguar si el cliente va a gastar mucha plata (más de 9000) o poca plata (menos de 9000).\n",
        "\n",
        "- a)\tEntrenar un modelo de deep learning que no utilice embeddings.\n",
        "- b)\tEntrenar un modelo de deep learning que utilice embeddings tanto para los productos como los usuarios. Realizar el mapeo de identificador de producto y usuarios a indices antes de separar el dataset en training, validation y testing.\n",
        "- c)\tCompare el score de cada modelo y comente lo necesario.\n",
        "\n"
      ]
    },
    {
      "cell_type": "code",
      "execution_count": 135,
      "metadata": {},
      "outputs": [],
      "source": [
        "import torch\n",
        "import torchvision\n",
        "import numpy as np\n",
        "import random\n",
        "import matplotlib.pyplot as plt\n",
        "from torchsummary import summary\n",
        "import math\n",
        "from tqdm import tqdm\n",
        "import pandas as pd\n",
        "from pathlib import Path\n",
        "from sklearn.model_selection import train_test_split\n",
        "import seaborn as sns\n",
        "from sklearn import metrics\n"
      ]
    },
    {
      "cell_type": "code",
      "execution_count": 48,
      "metadata": {},
      "outputs": [
        {
          "data": {
            "text/html": [
              "<div>\n",
              "<style scoped>\n",
              "    .dataframe tbody tr th:only-of-type {\n",
              "        vertical-align: middle;\n",
              "    }\n",
              "\n",
              "    .dataframe tbody tr th {\n",
              "        vertical-align: top;\n",
              "    }\n",
              "\n",
              "    .dataframe thead th {\n",
              "        text-align: right;\n",
              "    }\n",
              "</style>\n",
              "<table border=\"1\" class=\"dataframe\">\n",
              "  <thead>\n",
              "    <tr style=\"text-align: right;\">\n",
              "      <th></th>\n",
              "      <th>User_ID</th>\n",
              "      <th>Product_ID</th>\n",
              "      <th>Gender</th>\n",
              "      <th>Age</th>\n",
              "      <th>Occupation</th>\n",
              "      <th>City_Category</th>\n",
              "      <th>Stay_In_Current_City_Years</th>\n",
              "      <th>Marital_Status</th>\n",
              "      <th>Product_Category_1</th>\n",
              "      <th>Product_Category_2</th>\n",
              "      <th>Product_Category_3</th>\n",
              "      <th>Purchase</th>\n",
              "    </tr>\n",
              "  </thead>\n",
              "  <tbody>\n",
              "    <tr>\n",
              "      <th>0</th>\n",
              "      <td>1000001</td>\n",
              "      <td>P00069042</td>\n",
              "      <td>F</td>\n",
              "      <td>0-17</td>\n",
              "      <td>10</td>\n",
              "      <td>A</td>\n",
              "      <td>2</td>\n",
              "      <td>0</td>\n",
              "      <td>3</td>\n",
              "      <td>NaN</td>\n",
              "      <td>NaN</td>\n",
              "      <td>8370</td>\n",
              "    </tr>\n",
              "    <tr>\n",
              "      <th>1</th>\n",
              "      <td>1000001</td>\n",
              "      <td>P00248942</td>\n",
              "      <td>F</td>\n",
              "      <td>0-17</td>\n",
              "      <td>10</td>\n",
              "      <td>A</td>\n",
              "      <td>2</td>\n",
              "      <td>0</td>\n",
              "      <td>1</td>\n",
              "      <td>6.0</td>\n",
              "      <td>14.0</td>\n",
              "      <td>15200</td>\n",
              "    </tr>\n",
              "    <tr>\n",
              "      <th>2</th>\n",
              "      <td>1000001</td>\n",
              "      <td>P00087842</td>\n",
              "      <td>F</td>\n",
              "      <td>0-17</td>\n",
              "      <td>10</td>\n",
              "      <td>A</td>\n",
              "      <td>2</td>\n",
              "      <td>0</td>\n",
              "      <td>12</td>\n",
              "      <td>NaN</td>\n",
              "      <td>NaN</td>\n",
              "      <td>1422</td>\n",
              "    </tr>\n",
              "    <tr>\n",
              "      <th>3</th>\n",
              "      <td>1000001</td>\n",
              "      <td>P00085442</td>\n",
              "      <td>F</td>\n",
              "      <td>0-17</td>\n",
              "      <td>10</td>\n",
              "      <td>A</td>\n",
              "      <td>2</td>\n",
              "      <td>0</td>\n",
              "      <td>12</td>\n",
              "      <td>14.0</td>\n",
              "      <td>NaN</td>\n",
              "      <td>1057</td>\n",
              "    </tr>\n",
              "    <tr>\n",
              "      <th>4</th>\n",
              "      <td>1000002</td>\n",
              "      <td>P00285442</td>\n",
              "      <td>M</td>\n",
              "      <td>55+</td>\n",
              "      <td>16</td>\n",
              "      <td>C</td>\n",
              "      <td>4+</td>\n",
              "      <td>0</td>\n",
              "      <td>8</td>\n",
              "      <td>NaN</td>\n",
              "      <td>NaN</td>\n",
              "      <td>7969</td>\n",
              "    </tr>\n",
              "    <tr>\n",
              "      <th>...</th>\n",
              "      <td>...</td>\n",
              "      <td>...</td>\n",
              "      <td>...</td>\n",
              "      <td>...</td>\n",
              "      <td>...</td>\n",
              "      <td>...</td>\n",
              "      <td>...</td>\n",
              "      <td>...</td>\n",
              "      <td>...</td>\n",
              "      <td>...</td>\n",
              "      <td>...</td>\n",
              "      <td>...</td>\n",
              "    </tr>\n",
              "    <tr>\n",
              "      <th>550063</th>\n",
              "      <td>1006033</td>\n",
              "      <td>P00372445</td>\n",
              "      <td>M</td>\n",
              "      <td>51-55</td>\n",
              "      <td>13</td>\n",
              "      <td>B</td>\n",
              "      <td>1</td>\n",
              "      <td>1</td>\n",
              "      <td>20</td>\n",
              "      <td>NaN</td>\n",
              "      <td>NaN</td>\n",
              "      <td>368</td>\n",
              "    </tr>\n",
              "    <tr>\n",
              "      <th>550064</th>\n",
              "      <td>1006035</td>\n",
              "      <td>P00375436</td>\n",
              "      <td>F</td>\n",
              "      <td>26-35</td>\n",
              "      <td>1</td>\n",
              "      <td>C</td>\n",
              "      <td>3</td>\n",
              "      <td>0</td>\n",
              "      <td>20</td>\n",
              "      <td>NaN</td>\n",
              "      <td>NaN</td>\n",
              "      <td>371</td>\n",
              "    </tr>\n",
              "    <tr>\n",
              "      <th>550065</th>\n",
              "      <td>1006036</td>\n",
              "      <td>P00375436</td>\n",
              "      <td>F</td>\n",
              "      <td>26-35</td>\n",
              "      <td>15</td>\n",
              "      <td>B</td>\n",
              "      <td>4+</td>\n",
              "      <td>1</td>\n",
              "      <td>20</td>\n",
              "      <td>NaN</td>\n",
              "      <td>NaN</td>\n",
              "      <td>137</td>\n",
              "    </tr>\n",
              "    <tr>\n",
              "      <th>550066</th>\n",
              "      <td>1006038</td>\n",
              "      <td>P00375436</td>\n",
              "      <td>F</td>\n",
              "      <td>55+</td>\n",
              "      <td>1</td>\n",
              "      <td>C</td>\n",
              "      <td>2</td>\n",
              "      <td>0</td>\n",
              "      <td>20</td>\n",
              "      <td>NaN</td>\n",
              "      <td>NaN</td>\n",
              "      <td>365</td>\n",
              "    </tr>\n",
              "    <tr>\n",
              "      <th>550067</th>\n",
              "      <td>1006039</td>\n",
              "      <td>P00371644</td>\n",
              "      <td>F</td>\n",
              "      <td>46-50</td>\n",
              "      <td>0</td>\n",
              "      <td>B</td>\n",
              "      <td>4+</td>\n",
              "      <td>1</td>\n",
              "      <td>20</td>\n",
              "      <td>NaN</td>\n",
              "      <td>NaN</td>\n",
              "      <td>490</td>\n",
              "    </tr>\n",
              "  </tbody>\n",
              "</table>\n",
              "<p>550068 rows × 12 columns</p>\n",
              "</div>"
            ],
            "text/plain": [
              "        User_ID Product_ID Gender    Age  Occupation City_Category  \\\n",
              "0       1000001  P00069042      F   0-17          10             A   \n",
              "1       1000001  P00248942      F   0-17          10             A   \n",
              "2       1000001  P00087842      F   0-17          10             A   \n",
              "3       1000001  P00085442      F   0-17          10             A   \n",
              "4       1000002  P00285442      M    55+          16             C   \n",
              "...         ...        ...    ...    ...         ...           ...   \n",
              "550063  1006033  P00372445      M  51-55          13             B   \n",
              "550064  1006035  P00375436      F  26-35           1             C   \n",
              "550065  1006036  P00375436      F  26-35          15             B   \n",
              "550066  1006038  P00375436      F    55+           1             C   \n",
              "550067  1006039  P00371644      F  46-50           0             B   \n",
              "\n",
              "       Stay_In_Current_City_Years  Marital_Status  Product_Category_1  \\\n",
              "0                               2               0                   3   \n",
              "1                               2               0                   1   \n",
              "2                               2               0                  12   \n",
              "3                               2               0                  12   \n",
              "4                              4+               0                   8   \n",
              "...                           ...             ...                 ...   \n",
              "550063                          1               1                  20   \n",
              "550064                          3               0                  20   \n",
              "550065                         4+               1                  20   \n",
              "550066                          2               0                  20   \n",
              "550067                         4+               1                  20   \n",
              "\n",
              "        Product_Category_2  Product_Category_3  Purchase  \n",
              "0                      NaN                 NaN      8370  \n",
              "1                      6.0                14.0     15200  \n",
              "2                      NaN                 NaN      1422  \n",
              "3                     14.0                 NaN      1057  \n",
              "4                      NaN                 NaN      7969  \n",
              "...                    ...                 ...       ...  \n",
              "550063                 NaN                 NaN       368  \n",
              "550064                 NaN                 NaN       371  \n",
              "550065                 NaN                 NaN       137  \n",
              "550066                 NaN                 NaN       365  \n",
              "550067                 NaN                 NaN       490  \n",
              "\n",
              "[550068 rows x 12 columns]"
            ]
          },
          "execution_count": 48,
          "metadata": {},
          "output_type": "execute_result"
        }
      ],
      "source": [
        "df = pd.read_csv('data/dataset_black_sales.csv')\n",
        "df"
      ]
    },
    {
      "cell_type": "code",
      "execution_count": 49,
      "metadata": {},
      "outputs": [
        {
          "data": {
            "text/plain": [
              "User_ID                            0\n",
              "Product_ID                         0\n",
              "Gender                             0\n",
              "Age                                0\n",
              "Occupation                         0\n",
              "City_Category                      0\n",
              "Stay_In_Current_City_Years         0\n",
              "Marital_Status                     0\n",
              "Product_Category_1                 0\n",
              "Product_Category_2            173638\n",
              "Product_Category_3            383247\n",
              "Purchase                           0\n",
              "dtype: int64"
            ]
          },
          "execution_count": 49,
          "metadata": {},
          "output_type": "execute_result"
        }
      ],
      "source": [
        "df.isnull().sum()"
      ]
    },
    {
      "cell_type": "code",
      "execution_count": 50,
      "metadata": {},
      "outputs": [
        {
          "data": {
            "text/plain": [
              "<AxesSubplot:>"
            ]
          },
          "execution_count": 50,
          "metadata": {},
          "output_type": "execute_result"
        },
        {
          "data": {
            "image/png": "[encoded data removed]",
            "text/plain": [
              "<Figure size 432x288 with 1 Axes>"
            ]
          },
          "metadata": {
            "needs_background": "light"
          },
          "output_type": "display_data"
        }
      ],
      "source": [
        "df['Product_Category_3'].hist()"
      ]
    },
    {
      "cell_type": "code",
      "execution_count": 51,
      "metadata": {},
      "outputs": [
        {
          "data": {
            "text/plain": [
              "<AxesSubplot:>"
            ]
          },
          "execution_count": 51,
          "metadata": {},
          "output_type": "execute_result"
        },
        {
          "data": {
            "image/png": "[encoded data removed]",
            "text/plain": [
              "<Figure size 432x288 with 1 Axes>"
            ]
          },
          "metadata": {
            "needs_background": "light"
          },
          "output_type": "display_data"
        }
      ],
      "source": [
        "df['Product_Category_2'].hist()"
      ]
    },
    {
      "cell_type": "code",
      "execution_count": 52,
      "metadata": {},
      "outputs": [
        {
          "data": {
            "text/plain": [
              "<AxesSubplot:>"
            ]
          },
          "execution_count": 52,
          "metadata": {},
          "output_type": "execute_result"
        },
        {
          "data": {
            "image/png": "[encoded data removed]",
            "text/plain": [
              "<Figure size 432x288 with 1 Axes>"
            ]
          },
          "metadata": {
            "needs_background": "light"
          },
          "output_type": "display_data"
        }
      ],
      "source": [
        "df['Product_Category_1'].hist()"
      ]
    },
    {
      "cell_type": "code",
      "execution_count": 53,
      "metadata": {},
      "outputs": [
        {
          "data": {
            "text/plain": [
              "<AxesSubplot:>"
            ]
          },
          "execution_count": 53,
          "metadata": {},
          "output_type": "execute_result"
        },
        {
          "data": {
            "image/png": "[encoded data removed]",
            "text/plain": [
              "<Figure size 432x288 with 1 Axes>"
            ]
          },
          "metadata": {
            "needs_background": "light"
          },
          "output_type": "display_data"
        }
      ],
      "source": [
        "df['City_Category'].hist()"
      ]
    },
    {
      "cell_type": "code",
      "execution_count": 54,
      "metadata": {},
      "outputs": [],
      "source": [
        "m = df['Product_Category_2'].mean()\n",
        "df_with_mean = df.copy(deep=True)\n",
        "\n",
        "df_with_mean['Product_Category_2'] = df['Product_Category_2'].fillna(m)\n",
        "\n",
        "m = df['Product_Category_3'].mean()\n",
        "\n",
        "df_with_mean['Product_Category_3'] = df['Product_Category_3'].fillna(m)"
      ]
    },
    {
      "cell_type": "code",
      "execution_count": 55,
      "metadata": {},
      "outputs": [
        {
          "data": {
            "text/plain": [
              "User_ID                       0\n",
              "Product_ID                    0\n",
              "Gender                        0\n",
              "Age                           0\n",
              "Occupation                    0\n",
              "City_Category                 0\n",
              "Stay_In_Current_City_Years    0\n",
              "Marital_Status                0\n",
              "Product_Category_1            0\n",
              "Product_Category_2            0\n",
              "Product_Category_3            0\n",
              "Purchase                      0\n",
              "dtype: int64"
            ]
          },
          "execution_count": 55,
          "metadata": {},
          "output_type": "execute_result"
        }
      ],
      "source": [
        "df_with_mean.isnull().sum()"
      ]
    },
    {
      "cell_type": "code",
      "execution_count": 56,
      "metadata": {},
      "outputs": [
        {
          "data": {
            "text/plain": [
              "User_ID                       0\n",
              "Product_ID                    0\n",
              "Gender                        0\n",
              "Age                           0\n",
              "Occupation                    0\n",
              "City_Category                 0\n",
              "Stay_In_Current_City_Years    0\n",
              "Marital_Status                0\n",
              "Product_Category_1            0\n",
              "Product_Category_2            0\n",
              "Product_Category_3            0\n",
              "Purchase                      0\n",
              "dtype: int64"
            ]
          },
          "execution_count": 56,
          "metadata": {},
          "output_type": "execute_result"
        }
      ],
      "source": [
        "df = df[df['Product_Category_2'].notnull()]\n",
        "df = df[df['Product_Category_3'].notnull()]\n",
        "df.isnull().sum()"
      ]
    },
    {
      "cell_type": "code",
      "execution_count": 57,
      "metadata": {},
      "outputs": [
        {
          "name": "stdout",
          "output_type": "stream",
          "text": [
            "166821\n",
            "550068\n"
          ]
        }
      ],
      "source": [
        "print(df.shape[0])\n",
        "print(df_with_mean.shape[0])"
      ]
    },
    {
      "cell_type": "code",
      "execution_count": 58,
      "metadata": {},
      "outputs": [
        {
          "data": {
            "text/plain": [
              "User_ID                         int64\n",
              "Product_ID                     object\n",
              "Gender                         object\n",
              "Age                            object\n",
              "Occupation                      int64\n",
              "City_Category                  object\n",
              "Stay_In_Current_City_Years     object\n",
              "Marital_Status                  int64\n",
              "Product_Category_1              int64\n",
              "Product_Category_2            float64\n",
              "Product_Category_3            float64\n",
              "Purchase                        int64\n",
              "dtype: object"
            ]
          },
          "execution_count": 58,
          "metadata": {},
          "output_type": "execute_result"
        }
      ],
      "source": [
        "df.dtypes"
      ]
    },
    {
      "cell_type": "code",
      "execution_count": 59,
      "metadata": {},
      "outputs": [],
      "source": [
        "df_dummies = pd.get_dummies(df, columns=['City_Category']) \n",
        "df_dummies = pd.get_dummies(df_dummies, columns=['Gender']) \n",
        "df_dummies = pd.get_dummies(df_dummies, columns=['Age']) \n",
        "df_dummies = pd.get_dummies(df_dummies, columns=['Stay_In_Current_City_Years']) \n"
      ]
    },
    {
      "cell_type": "code",
      "execution_count": 60,
      "metadata": {},
      "outputs": [],
      "source": [
        "df_dummies_mean = pd.get_dummies(df_with_mean, columns=['City_Category']) \n",
        "df_dummies_mean = pd.get_dummies(df_dummies_mean, columns=['Gender']) \n",
        "df_dummies_mean = pd.get_dummies(df_dummies_mean, columns=['Age']) \n",
        "df_dummies_mean = pd.get_dummies(df_dummies_mean, columns=['Stay_In_Current_City_Years']) "
      ]
    },
    {
      "cell_type": "code",
      "execution_count": 61,
      "metadata": {},
      "outputs": [],
      "source": [
        "df_dummies['Product_ID'] = df_dummies['Product_ID'].map(df_dummies['Product_ID'].value_counts(normalize=True)).astype(float)\n",
        "df_dummies_mean['Product_ID'] = df_dummies_mean['Product_ID'].map(df_dummies_mean['Product_ID'].value_counts(normalize=True)).astype(float)"
      ]
    },
    {
      "cell_type": "code",
      "execution_count": 62,
      "metadata": {},
      "outputs": [],
      "source": [
        "df_dummies_mean['User_ID'] = df_dummies_mean['User_ID'].map(df_dummies_mean['User_ID'].value_counts(normalize=True)).astype(float)"
      ]
    },
    {
      "cell_type": "markdown",
      "metadata": {},
      "source": [
        "No se ven outliers muy diferenciados"
      ]
    },
    {
      "cell_type": "code",
      "execution_count": 63,
      "metadata": {},
      "outputs": [
        {
          "data": {
            "text/plain": [
              "<AxesSubplot:>"
            ]
          },
          "execution_count": 63,
          "metadata": {},
          "output_type": "execute_result"
        },
        {
          "data": {
            "image/png": "[encoded data removed]",
            "text/plain": [
              "<Figure size 432x288 with 1 Axes>"
            ]
          },
          "metadata": {
            "needs_background": "light"
          },
          "output_type": "display_data"
        }
      ],
      "source": [
        "df_dummies_mean['Purchase'].hist()"
      ]
    },
    {
      "cell_type": "markdown",
      "metadata": {},
      "source": [
        "Clasifico en 3 clases según el costo de la compra"
      ]
    },
    {
      "cell_type": "code",
      "execution_count": 64,
      "metadata": {},
      "outputs": [
        {
          "data": {
            "text/plain": [
              "<AxesSubplot:>"
            ]
          },
          "execution_count": 64,
          "metadata": {},
          "output_type": "execute_result"
        },
        {
          "data": {
            "image/png": "[encoded data removed]",
            "text/plain": [
              "<Figure size 432x288 with 1 Axes>"
            ]
          },
          "metadata": {
            "needs_background": "light"
          },
          "output_type": "display_data"
        }
      ],
      "source": [
        "df_classification = df_dummies_mean.copy(deep=True)\n",
        "\n",
        "limit = 9000\n",
        "\n",
        "df_classification['amount_category'] = df_classification['Purchase'].map(lambda x: 1 if x > limit else 0)\n",
        "df_classification['amount_category'].hist()"
      ]
    },
    {
      "cell_type": "code",
      "execution_count": 65,
      "metadata": {},
      "outputs": [],
      "source": [
        "df_classification['Occupation'] = df_classification['Occupation'].map(df_classification['Occupation'].value_counts(normalize=True)).astype(float)"
      ]
    },
    {
      "cell_type": "code",
      "execution_count": 66,
      "metadata": {},
      "outputs": [],
      "source": [
        "df_classification['Product_Category_1'] = df_classification['Product_Category_1'].map(df_classification['Product_Category_1'].value_counts(normalize=True)).astype(float)"
      ]
    },
    {
      "cell_type": "code",
      "execution_count": 67,
      "metadata": {},
      "outputs": [],
      "source": [
        "df_classification['Product_Category_2'] = df_classification['Product_Category_2'].map(df_classification['Product_Category_2'].value_counts(normalize=True)).astype(float)"
      ]
    },
    {
      "cell_type": "code",
      "execution_count": 68,
      "metadata": {},
      "outputs": [],
      "source": [
        "df_classification['Product_Category_3'] = df_classification['Product_Category_3'].map(df_classification['Product_Category_3'].value_counts(normalize=True)).astype(float)"
      ]
    },
    {
      "cell_type": "code",
      "execution_count": 69,
      "metadata": {},
      "outputs": [
        {
          "data": {
            "text/html": [
              "<div>\n",
              "<style scoped>\n",
              "    .dataframe tbody tr th:only-of-type {\n",
              "        vertical-align: middle;\n",
              "    }\n",
              "\n",
              "    .dataframe tbody tr th {\n",
              "        vertical-align: top;\n",
              "    }\n",
              "\n",
              "    .dataframe thead th {\n",
              "        text-align: right;\n",
              "    }\n",
              "</style>\n",
              "<table border=\"1\" class=\"dataframe\">\n",
              "  <thead>\n",
              "    <tr style=\"text-align: right;\">\n",
              "      <th></th>\n",
              "      <th>User_ID</th>\n",
              "      <th>Product_ID</th>\n",
              "      <th>Occupation</th>\n",
              "      <th>Marital_Status</th>\n",
              "      <th>Product_Category_1</th>\n",
              "      <th>Product_Category_2</th>\n",
              "      <th>Product_Category_3</th>\n",
              "      <th>Purchase</th>\n",
              "      <th>City_Category_A</th>\n",
              "      <th>City_Category_B</th>\n",
              "      <th>...</th>\n",
              "      <th>Age_36-45</th>\n",
              "      <th>Age_46-50</th>\n",
              "      <th>Age_51-55</th>\n",
              "      <th>Age_55+</th>\n",
              "      <th>Stay_In_Current_City_Years_0</th>\n",
              "      <th>Stay_In_Current_City_Years_1</th>\n",
              "      <th>Stay_In_Current_City_Years_2</th>\n",
              "      <th>Stay_In_Current_City_Years_3</th>\n",
              "      <th>Stay_In_Current_City_Years_4+</th>\n",
              "      <th>amount_category</th>\n",
              "    </tr>\n",
              "  </thead>\n",
              "  <tbody>\n",
              "    <tr>\n",
              "      <th>0</th>\n",
              "      <td>0.000064</td>\n",
              "      <td>0.000413</td>\n",
              "      <td>0.023506</td>\n",
              "      <td>0</td>\n",
              "      <td>0.036746</td>\n",
              "      <td>0.315666</td>\n",
              "      <td>0.696727</td>\n",
              "      <td>8370</td>\n",
              "      <td>1</td>\n",
              "      <td>0</td>\n",
              "      <td>...</td>\n",
              "      <td>0</td>\n",
              "      <td>0</td>\n",
              "      <td>0</td>\n",
              "      <td>0</td>\n",
              "      <td>0</td>\n",
              "      <td>0</td>\n",
              "      <td>1</td>\n",
              "      <td>0</td>\n",
              "      <td>0</td>\n",
              "      <td>0</td>\n",
              "    </tr>\n",
              "    <tr>\n",
              "      <th>1</th>\n",
              "      <td>0.000064</td>\n",
              "      <td>0.001056</td>\n",
              "      <td>0.023506</td>\n",
              "      <td>0</td>\n",
              "      <td>0.255201</td>\n",
              "      <td>0.029934</td>\n",
              "      <td>0.033501</td>\n",
              "      <td>15200</td>\n",
              "      <td>1</td>\n",
              "      <td>0</td>\n",
              "      <td>...</td>\n",
              "      <td>0</td>\n",
              "      <td>0</td>\n",
              "      <td>0</td>\n",
              "      <td>0</td>\n",
              "      <td>0</td>\n",
              "      <td>0</td>\n",
              "      <td>1</td>\n",
              "      <td>0</td>\n",
              "      <td>0</td>\n",
              "      <td>1</td>\n",
              "    </tr>\n",
              "    <tr>\n",
              "      <th>2</th>\n",
              "      <td>0.000064</td>\n",
              "      <td>0.000185</td>\n",
              "      <td>0.023506</td>\n",
              "      <td>0</td>\n",
              "      <td>0.007175</td>\n",
              "      <td>0.315666</td>\n",
              "      <td>0.696727</td>\n",
              "      <td>1422</td>\n",
              "      <td>1</td>\n",
              "      <td>0</td>\n",
              "      <td>...</td>\n",
              "      <td>0</td>\n",
              "      <td>0</td>\n",
              "      <td>0</td>\n",
              "      <td>0</td>\n",
              "      <td>0</td>\n",
              "      <td>0</td>\n",
              "      <td>1</td>\n",
              "      <td>0</td>\n",
              "      <td>0</td>\n",
              "      <td>0</td>\n",
              "    </tr>\n",
              "    <tr>\n",
              "      <th>3</th>\n",
              "      <td>0.000064</td>\n",
              "      <td>0.000620</td>\n",
              "      <td>0.023506</td>\n",
              "      <td>0</td>\n",
              "      <td>0.007175</td>\n",
              "      <td>0.100184</td>\n",
              "      <td>0.696727</td>\n",
              "      <td>1057</td>\n",
              "      <td>1</td>\n",
              "      <td>0</td>\n",
              "      <td>...</td>\n",
              "      <td>0</td>\n",
              "      <td>0</td>\n",
              "      <td>0</td>\n",
              "      <td>0</td>\n",
              "      <td>0</td>\n",
              "      <td>0</td>\n",
              "      <td>1</td>\n",
              "      <td>0</td>\n",
              "      <td>0</td>\n",
              "      <td>0</td>\n",
              "    </tr>\n",
              "    <tr>\n",
              "      <th>4</th>\n",
              "      <td>0.000140</td>\n",
              "      <td>0.000369</td>\n",
              "      <td>0.046123</td>\n",
              "      <td>0</td>\n",
              "      <td>0.207111</td>\n",
              "      <td>0.315666</td>\n",
              "      <td>0.696727</td>\n",
              "      <td>7969</td>\n",
              "      <td>0</td>\n",
              "      <td>0</td>\n",
              "      <td>...</td>\n",
              "      <td>0</td>\n",
              "      <td>0</td>\n",
              "      <td>0</td>\n",
              "      <td>1</td>\n",
              "      <td>0</td>\n",
              "      <td>0</td>\n",
              "      <td>0</td>\n",
              "      <td>0</td>\n",
              "      <td>1</td>\n",
              "      <td>0</td>\n",
              "    </tr>\n",
              "  </tbody>\n",
              "</table>\n",
              "<p>5 rows × 26 columns</p>\n",
              "</div>"
            ],
            "text/plain": [
              "    User_ID  Product_ID  Occupation  Marital_Status  Product_Category_1  \\\n",
              "0  0.000064    0.000413    0.023506               0            0.036746   \n",
              "1  0.000064    0.001056    0.023506               0            0.255201   \n",
              "2  0.000064    0.000185    0.023506               0            0.007175   \n",
              "3  0.000064    0.000620    0.023506               0            0.007175   \n",
              "4  0.000140    0.000369    0.046123               0            0.207111   \n",
              "\n",
              "   Product_Category_2  Product_Category_3  Purchase  City_Category_A  \\\n",
              "0            0.315666            0.696727      8370                1   \n",
              "1            0.029934            0.033501     15200                1   \n",
              "2            0.315666            0.696727      1422                1   \n",
              "3            0.100184            0.696727      1057                1   \n",
              "4            0.315666            0.696727      7969                0   \n",
              "\n",
              "   City_Category_B  ...  Age_36-45  Age_46-50  Age_51-55  Age_55+  \\\n",
              "0                0  ...          0          0          0        0   \n",
              "1                0  ...          0          0          0        0   \n",
              "2                0  ...          0          0          0        0   \n",
              "3                0  ...          0          0          0        0   \n",
              "4                0  ...          0          0          0        1   \n",
              "\n",
              "   Stay_In_Current_City_Years_0  Stay_In_Current_City_Years_1  \\\n",
              "0                             0                             0   \n",
              "1                             0                             0   \n",
              "2                             0                             0   \n",
              "3                             0                             0   \n",
              "4                             0                             0   \n",
              "\n",
              "   Stay_In_Current_City_Years_2  Stay_In_Current_City_Years_3  \\\n",
              "0                             1                             0   \n",
              "1                             1                             0   \n",
              "2                             1                             0   \n",
              "3                             1                             0   \n",
              "4                             0                             0   \n",
              "\n",
              "   Stay_In_Current_City_Years_4+  amount_category  \n",
              "0                              0                0  \n",
              "1                              0                1  \n",
              "2                              0                0  \n",
              "3                              0                0  \n",
              "4                              1                0  \n",
              "\n",
              "[5 rows x 26 columns]"
            ]
          },
          "execution_count": 69,
          "metadata": {},
          "output_type": "execute_result"
        }
      ],
      "source": [
        "df_classification.head()"
      ]
    },
    {
      "cell_type": "code",
      "execution_count": 26,
      "metadata": {},
      "outputs": [],
      "source": [
        "df_classification = pd.get_dummies(df_classification, columns=['amount_category']) "
      ]
    },
    {
      "cell_type": "code",
      "execution_count": 27,
      "metadata": {},
      "outputs": [
        {
          "data": {
            "text/html": [
              "<div>\n",
              "<style scoped>\n",
              "    .dataframe tbody tr th:only-of-type {\n",
              "        vertical-align: middle;\n",
              "    }\n",
              "\n",
              "    .dataframe tbody tr th {\n",
              "        vertical-align: top;\n",
              "    }\n",
              "\n",
              "    .dataframe thead th {\n",
              "        text-align: right;\n",
              "    }\n",
              "</style>\n",
              "<table border=\"1\" class=\"dataframe\">\n",
              "  <thead>\n",
              "    <tr style=\"text-align: right;\">\n",
              "      <th></th>\n",
              "      <th>amount_category_0</th>\n",
              "      <th>amount_category_1</th>\n",
              "    </tr>\n",
              "  </thead>\n",
              "  <tbody>\n",
              "    <tr>\n",
              "      <th>0</th>\n",
              "      <td>1</td>\n",
              "      <td>0</td>\n",
              "    </tr>\n",
              "    <tr>\n",
              "      <th>1</th>\n",
              "      <td>0</td>\n",
              "      <td>1</td>\n",
              "    </tr>\n",
              "    <tr>\n",
              "      <th>2</th>\n",
              "      <td>1</td>\n",
              "      <td>0</td>\n",
              "    </tr>\n",
              "    <tr>\n",
              "      <th>3</th>\n",
              "      <td>1</td>\n",
              "      <td>0</td>\n",
              "    </tr>\n",
              "    <tr>\n",
              "      <th>4</th>\n",
              "      <td>1</td>\n",
              "      <td>0</td>\n",
              "    </tr>\n",
              "    <tr>\n",
              "      <th>...</th>\n",
              "      <td>...</td>\n",
              "      <td>...</td>\n",
              "    </tr>\n",
              "    <tr>\n",
              "      <th>550063</th>\n",
              "      <td>1</td>\n",
              "      <td>0</td>\n",
              "    </tr>\n",
              "    <tr>\n",
              "      <th>550064</th>\n",
              "      <td>1</td>\n",
              "      <td>0</td>\n",
              "    </tr>\n",
              "    <tr>\n",
              "      <th>550065</th>\n",
              "      <td>1</td>\n",
              "      <td>0</td>\n",
              "    </tr>\n",
              "    <tr>\n",
              "      <th>550066</th>\n",
              "      <td>1</td>\n",
              "      <td>0</td>\n",
              "    </tr>\n",
              "    <tr>\n",
              "      <th>550067</th>\n",
              "      <td>1</td>\n",
              "      <td>0</td>\n",
              "    </tr>\n",
              "  </tbody>\n",
              "</table>\n",
              "<p>550068 rows × 2 columns</p>\n",
              "</div>"
            ],
            "text/plain": [
              "        amount_category_0  amount_category_1\n",
              "0                       1                  0\n",
              "1                       0                  1\n",
              "2                       1                  0\n",
              "3                       1                  0\n",
              "4                       1                  0\n",
              "...                   ...                ...\n",
              "550063                  1                  0\n",
              "550064                  1                  0\n",
              "550065                  1                  0\n",
              "550066                  1                  0\n",
              "550067                  1                  0\n",
              "\n",
              "[550068 rows x 2 columns]"
            ]
          },
          "execution_count": 27,
          "metadata": {},
          "output_type": "execute_result"
        }
      ],
      "source": [
        "y_classification = df_classification[['amount_category_0', 'amount_category_1']]\n",
        "y_classification"
      ]
    },
    {
      "cell_type": "code",
      "execution_count": 74,
      "metadata": {},
      "outputs": [
        {
          "data": {
            "text/plain": [
              "Index(['User_ID', 'Product_ID', 'Occupation', 'Marital_Status',\n",
              "       'Product_Category_1', 'Product_Category_2', 'Product_Category_3',\n",
              "       'Purchase', 'City_Category_A', 'City_Category_B', 'City_Category_C',\n",
              "       'Gender_F', 'Gender_M', 'Age_0-17', 'Age_18-25', 'Age_26-35',\n",
              "       'Age_36-45', 'Age_46-50', 'Age_51-55', 'Age_55+',\n",
              "       'Stay_In_Current_City_Years_0', 'Stay_In_Current_City_Years_1',\n",
              "       'Stay_In_Current_City_Years_2', 'Stay_In_Current_City_Years_3',\n",
              "       'Stay_In_Current_City_Years_4+', 'amount_category'],\n",
              "      dtype='object')"
            ]
          },
          "execution_count": 74,
          "metadata": {},
          "output_type": "execute_result"
        }
      ],
      "source": [
        "df_classification.columns"
      ]
    },
    {
      "cell_type": "code",
      "execution_count": 75,
      "metadata": {},
      "outputs": [],
      "source": [
        "X = df_classification[df_classification.columns.drop(['Purchase', 'amount_category'])]"
      ]
    },
    {
      "cell_type": "code",
      "execution_count": 76,
      "metadata": {},
      "outputs": [
        {
          "data": {
            "text/plain": [
              "Index(['User_ID', 'Product_ID', 'Occupation', 'Marital_Status',\n",
              "       'Product_Category_1', 'Product_Category_2', 'Product_Category_3',\n",
              "       'City_Category_A', 'City_Category_B', 'City_Category_C', 'Gender_F',\n",
              "       'Gender_M', 'Age_0-17', 'Age_18-25', 'Age_26-35', 'Age_36-45',\n",
              "       'Age_46-50', 'Age_51-55', 'Age_55+', 'Stay_In_Current_City_Years_0',\n",
              "       'Stay_In_Current_City_Years_1', 'Stay_In_Current_City_Years_2',\n",
              "       'Stay_In_Current_City_Years_3', 'Stay_In_Current_City_Years_4+'],\n",
              "      dtype='object')"
            ]
          },
          "execution_count": 76,
          "metadata": {},
          "output_type": "execute_result"
        }
      ],
      "source": [
        "X.columns"
      ]
    },
    {
      "cell_type": "code",
      "execution_count": 85,
      "metadata": {},
      "outputs": [],
      "source": [
        "X = X.to_numpy()\n",
        "y_classification = y_classification.to_numpy()\n",
        "x_norm = (X - np.min(X, axis=0)) / (np.max(X, axis=0 ) - np.min(X, axis=0))\n"
      ]
    },
    {
      "cell_type": "code",
      "execution_count": 99,
      "metadata": {},
      "outputs": [],
      "source": [
        "# Divido el dataset\n",
        "idx = np.random.permutation(x_norm.shape[0])\n",
        "train_idx = idx[0:int(0.85*len(idx))]\n",
        "valid_idx = idx[int(0.85*len(idx)):]\n",
        "\n",
        "X_train_classification = x_norm[train_idx]\n",
        "y_train_classification = y_classification[train_idx]\n",
        "X_test_classification = x_norm[valid_idx]\n",
        "y_test_classification = y_classification[valid_idx]\n",
        "\n",
        "n_train = X_train_classification.shape[0]\n",
        "n_valid = X_test_classification.shape[0]"
      ]
    },
    {
      "cell_type": "code",
      "execution_count": 29,
      "metadata": {},
      "outputs": [],
      "source": [
        "\"\"\"\n",
        "X_train_classification, X_test_classification, y_train_classification, y_test_classification = train_test_split(\n",
        "    X, \n",
        "    y_classification,  \n",
        "    test_size=0.3,\n",
        "    random_state=42)\n",
        "\"\"\""
      ]
    },
    {
      "cell_type": "code",
      "execution_count": 30,
      "metadata": {},
      "outputs": [],
      "source": [
        "\"\"\"\n",
        "train_classification = torch.Tensor(X_train_classification.to_numpy()).type(torch.FloatTensor)\n",
        "y_train_classification = torch.Tensor(y_train_classification.to_numpy()).type(torch.FloatTensor)\n",
        "\n",
        "test_classification = torch.Tensor(X_test_classification.to_numpy()).type(torch.FloatTensor)\n",
        "y_test_classification = torch.Tensor(y_test_classification.to_numpy()).type(torch.FloatTensor)\n",
        "\"\"\""
      ]
    },
    {
      "cell_type": "code",
      "execution_count": 100,
      "metadata": {},
      "outputs": [],
      "source": [
        "class data_set(torch.utils.data.DataLoader):\n",
        "    def __init__(self,x_param,y_param):\n",
        "        self.X = x_param                           # set data\n",
        "        self.Y = y_param                           # set lables\n",
        "\n",
        "    def __len__(self):\n",
        "        return self.X.shape[0]                   # return length\n",
        "\n",
        "    def __getitem__(self, idx):\n",
        "        return self.X[idx], self.Y[idx]    # return list of batch data [data, labels]"
      ]
    },
    {
      "cell_type": "code",
      "execution_count": 101,
      "metadata": {},
      "outputs": [],
      "source": [
        "classification_training_dataset = data_set(X_train_classification, y_train_classification)\n",
        "classification_test_dataset = data_set(X_test_classification, y_test_classification)"
      ]
    },
    {
      "cell_type": "code",
      "execution_count": 102,
      "metadata": {},
      "outputs": [],
      "source": [
        "# ahora el dataloader\n",
        "classification_dataloader = {\n",
        "    'train': torch.utils.data.DataLoader(classification_training_dataset, batch_size=64, shuffle=True, pin_memory=True),\n",
        "    'test': torch.utils.data.DataLoader(classification_test_dataset, batch_size=64, shuffle=False, pin_memory=True)\n",
        "}"
      ]
    },
    {
      "cell_type": "code",
      "execution_count": 103,
      "metadata": {},
      "outputs": [
        {
          "name": "stdout",
          "output_type": "stream",
          "text": [
            "<class 'dict'>\n",
            "<class 'torch.utils.data.dataloader.DataLoader'>\n",
            "467557\n",
            "82511\n"
          ]
        }
      ],
      "source": [
        "print(type(classification_dataloader))\n",
        "print(type(classification_dataloader['train']))\n",
        "print(len(classification_dataloader['train'].dataset))\n",
        "print(len(classification_dataloader['test'].dataset))"
      ]
    },
    {
      "cell_type": "code",
      "execution_count": 104,
      "metadata": {},
      "outputs": [],
      "source": [
        "device = \"cuda\" if torch.cuda.is_available() else \"cpu\""
      ]
    },
    {
      "cell_type": "code",
      "execution_count": 339,
      "metadata": {},
      "outputs": [],
      "source": [
        "# bloque de convolución para emplear en mi red\n",
        "\n",
        "def conv_block(c_in, c_out, k=5, p=2, s=1, pk=3, ps=1, pp=1):\n",
        "    return torch.nn.Sequential(\n",
        "        torch.nn.Conv1d(c_in, c_out, k, padding=p, stride=s), # conv\n",
        "        torch.nn.Sigmoid(),                                      # activation\n",
        "        torch.nn.MaxPool1d(pk, stride=ps, padding=pp)         # pooling\n",
        "    )"
      ]
    },
    {
      "cell_type": "code",
      "execution_count": 340,
      "metadata": {},
      "outputs": [],
      "source": [
        "class CNN(torch.nn.Module):\n",
        "  def __init__(self, n_channels=26, n_outputs=2):\n",
        "    super().__init__()\n",
        "    self.conv1 = conv_block(n_channels, 52)\n",
        "    self.conv1_out = None\n",
        "    self.conv2 = conv_block(52, 26)\n",
        "    self.conv2_out = None\n",
        "    #self.conv3 = conv_block(104, 52)\n",
        "    #self.conv3_out = None\n",
        "    self.fc = torch.nn.Linear(26, n_outputs)\n",
        "    \n",
        "    \n",
        "    print('Red creada')\n",
        "    print('arquitectura:')\n",
        "    print(self)\n",
        "    \n",
        "    # Me fijo en el número de capas\n",
        "    i=0\n",
        "    for layer in self.children():\n",
        "        i=i+1\n",
        "    print('Número total de capas de CNN (conv+act+polling) + finales : ', i)\n",
        "    \n",
        "    # Me fijo en el número de parámetros entrenables\n",
        "    pytorch_total_params = sum(p.numel() for p in self.parameters() if p.requires_grad)\n",
        "    print('Número total de parámetros a entrenar: ', pytorch_total_params)\n",
        "\n",
        "  def n_layers(self):\n",
        "    i=0\n",
        "    for layer in self.children():\n",
        "        i=i+1\n",
        "\n",
        "    return i\n",
        "\n",
        "  def n_parameters(self):\n",
        "    pytorch_total_params = sum(p.numel() for p in self.parameters() if p.requires_grad)\n",
        "    return pytorch_total_params\n",
        "\n",
        "  def validar_dim(self, tam):\n",
        "    print(\"Validacion de dimensiones\")\n",
        "    x = torch.randn(64, int(tam))\n",
        "    print(\"Tamaño entrada: \", x.shape)\n",
        "    x = self.conv1(x)\n",
        "    print(\"Tamaño salida conv1: \", x.shape)\n",
        "    x = self.conv2(x)\n",
        "    print(\"Tamaño salida conv2: \", x.shape)\n",
        "\n",
        "    x = self.conv3(x)\n",
        "    print(\"Tamaño salida conv3: \", x.shape)\n",
        "\n",
        "    x = x.view(x.shape[0], -1)\n",
        "    print(\"Tamaño imagen vectorizada: \", x.shape)\n",
        "    x = self.fc(x)\n",
        "    print(\"Tamaño salida fc (nro clases): \", x.shape)\n",
        "\n",
        "  def forward(self, x):\n",
        "    self.conv1_out = self.conv1(x)\n",
        "    self.conv2_out = self.conv2(self.conv1_out)\n",
        "    #self.conv3_out = self.conv3(self.conv2_out)\n",
        "    y = self.conv2_out.view(self.conv2_out.shape[1], -1)\n",
        "    y = self.fc(y)\n",
        "    return y\n",
        "    "
      ]
    },
    {
      "cell_type": "code",
      "execution_count": 341,
      "metadata": {},
      "outputs": [],
      "source": [
        "def fit(model, dataloader, epochs=15):\n",
        "    model.to(device)\n",
        "    optimizer = torch.optim.Adam(model.parameters(), lr=1e-3)\n",
        "    criterion = torch.nn.CrossEntropyLoss()\n",
        "    #criterion = torch.nn.SoftMarginLoss()\n",
        "    epoch_t_loss = []\n",
        "    epoch_v_loss = []\n",
        "    epoch_t_acc = []\n",
        "    epoch_v_acc = []\n",
        "    for epoch in range(1, epochs+1):\n",
        "\n",
        "        model.train()\n",
        "        train_loss, train_acc = [], []\n",
        "        bar = tqdm(dataloader['train'])\n",
        "        for batch in bar:\n",
        "            X, y = batch\n",
        "            X, y = X.to(device), y.to(device)\n",
        "            X = X.permute(1, 0)\n",
        "            optimizer.zero_grad()\n",
        "            y_hat = model(X)\n",
        "            loss = criterion(y_hat, y.type(torch.FloatTensor))\n",
        "            loss.backward()\n",
        "            optimizer.step()\n",
        "            train_loss.append(loss.item())            \n",
        "            acc = (torch.torch.argmax(y, axis=1) == torch.argmax(y_hat, axis=1)).sum().item() / len(y)\n",
        "            train_acc.append(acc)\n",
        "            #bar.set_description(f\"acc {np.mean(train_acc):.5f}\")     \n",
        "        print(f\"Epoch {epoch}/{epochs} loss {np.mean(train_loss):.5f} acc {np.mean(train_acc):.5f}\")\n",
        "        epoch_t_loss.append(np.mean(train_loss))\n",
        "        epoch_t_acc.append(np.mean(train_acc))\n",
        "        \n",
        "        \n",
        "    plt.figure()\n",
        "    plt.plot(epoch_t_loss, 'r')\n",
        "    plt.title('loss')\n",
        "    plt.legend(['train loss'])\n",
        "    plt.grid()\n",
        "\n",
        "    plt.figure()\n",
        "    plt.plot(epoch_t_acc, 'r')\n",
        "    plt.title('acc')\n",
        "    plt.legend(['train acc'])\n",
        "    plt.grid()\n",
        "    plt.show()"
      ]
    },
    {
      "cell_type": "code",
      "execution_count": 253,
      "metadata": {},
      "outputs": [],
      "source": [
        "def test_acc(model, dataloader):\n",
        "    model.to(device)\n",
        "    train_acc = []\n",
        "\n",
        "    bar = tqdm(dataloader['test'])\n",
        "    for batch in bar:\n",
        "        X, y = batch\n",
        "        X = X.permute(1, 0)\n",
        "        X, y = X.to(device), y.to(device)\n",
        "        y_hat = model(X)\n",
        "        acc = (torch.torch.argmax(y, axis=1) == torch.argmax(y_hat, axis=1)).sum().item() / len(y)\n",
        "        train_acc.append(acc)\n",
        "        #bar.set_description(f\"acc {np.mean(train_acc):.5f}\")\n",
        "        \n",
        "    v_acc  = np.mean(train_acc)\n",
        "\n",
        "    print(f\"Test accuracy {np.mean(v_acc):.5f}\")\n",
        "    plt.figure()\n",
        "    plt.plot(train_acc, 'r')\n",
        "\n",
        "\n",
        "    return v_acc"
      ]
    },
    {
      "cell_type": "code",
      "execution_count": 342,
      "metadata": {},
      "outputs": [
        {
          "name": "stdout",
          "output_type": "stream",
          "text": [
            "Red creada\n",
            "arquitectura:\n",
            "CNN(\n",
            "  (conv1): Sequential(\n",
            "    (0): Conv1d(26, 52, kernel_size=(5,), stride=(1,), padding=(2,))\n",
            "    (1): Sigmoid()\n",
            "    (2): MaxPool1d(kernel_size=3, stride=1, padding=1, dilation=1, ceil_mode=False)\n",
            "  )\n",
            "  (conv2): Sequential(\n",
            "    (0): Conv1d(52, 26, kernel_size=(5,), stride=(1,), padding=(2,))\n",
            "    (1): Sigmoid()\n",
            "    (2): MaxPool1d(kernel_size=3, stride=1, padding=1, dilation=1, ceil_mode=False)\n",
            "  )\n",
            "  (fc): Linear(in_features=26, out_features=2, bias=True)\n",
            ")\n",
            "Número total de capas de CNN (conv+act+polling) + finales :  3\n",
            "Número total de parámetros a entrenar:  13652\n"
          ]
        }
      ],
      "source": [
        "model = CNN()\n",
        "fit(model, classification_dataloader, epochs=100)\n",
        "accuracy = test_acc(model, classification_dataloader)\n",
        "print(f\"accuracy {accuracy:.5f}\")"
      ]
    },
    {
      "cell_type": "code",
      "execution_count": 105,
      "metadata": {},
      "outputs": [],
      "source": [
        "# Arquitectura\n",
        "class NNet(torch.nn.Module):\n",
        "\n",
        "  def __init__(self):\n",
        "    # Defino la arquitectura de la red\n",
        "    super().__init__()\n",
        "    self.linear_1 = torch.nn.Linear(in_features=24, out_features=72, bias=True)\n",
        "    self.non_linear_1 = torch.nn.ReLU()\n",
        "    self.linear_2 = torch.nn.Linear(in_features = 72, out_features=36, bias=True)\n",
        "    self.non_linear_2 = torch.nn.ReLU()\n",
        "    self.linear_3 = torch.nn.Linear(in_features = 36, out_features=18, bias=True)\n",
        "    self.non_linear_3 = torch.nn.ReLU()\n",
        "    self.output = torch.nn.Linear(in_features = 18, out_features= 2, bias=True)\n",
        "\n",
        "  def forward(self, x):\n",
        "    # Defino el cálculo del paso forward\n",
        "    x = self.linear_1(x)\n",
        "    x = self.non_linear_1(x)\n",
        "    x = self.linear_2(x)\n",
        "    x = self.non_linear_2(x)\n",
        "\n",
        "    x = self.linear_3(x)\n",
        "    x = self.non_linear_3(x)\n",
        "    \n",
        "    x = self.output(x)\n",
        "    return x"
      ]
    },
    {
      "cell_type": "code",
      "execution_count": 106,
      "metadata": {},
      "outputs": [
        {
          "name": "stdout",
          "output_type": "stream",
          "text": [
            " Epoch 0 | Train/Valid loss: 0.009 / 0.028 | Train/Valid Diff: 0.741 / 0.808\n",
            " Epoch 1 | Train/Valid loss: 0.008 / 0.033 | Train/Valid Diff: 0.809 / 0.819\n",
            " Epoch 2 | Train/Valid loss: 0.008 / 0.066 | Train/Valid Diff: 0.819 / 0.821\n",
            " Epoch 3 | Train/Valid loss: 0.010 / 2.528 | Train/Valid Diff: 0.683 / 0.664\n",
            " Epoch 4 | Train/Valid loss: 0.010 / 0.525 | Train/Valid Diff: 0.682 / 0.729\n",
            " Epoch 5 | Train/Valid loss: 0.008 / 0.268 | Train/Valid Diff: 0.780 / 0.770\n",
            " Epoch 6 | Train/Valid loss: 0.008 / 0.035 | Train/Valid Diff: 0.797 / 0.804\n",
            " Epoch 7 | Train/Valid loss: 0.008 / 0.058 | Train/Valid Diff: 0.799 / 0.804\n",
            " Epoch 8 | Train/Valid loss: 0.008 / 0.060 | Train/Valid Diff: 0.798 / 0.796\n",
            " Epoch 9 | Train/Valid loss: 0.008 / 0.097 | Train/Valid Diff: 0.794 / 0.802\n",
            " Epoch 10 | Train/Valid loss: 0.008 / 0.151 | Train/Valid Diff: 0.799 / 0.803\n",
            " Epoch 11 | Train/Valid loss: 0.008 / 0.116 | Train/Valid Diff: 0.798 / 0.805\n",
            " Epoch 12 | Train/Valid loss: 0.008 / 0.275 | Train/Valid Diff: 0.784 / 0.775\n",
            " Epoch 13 | Train/Valid loss: 0.008 / 0.191 | Train/Valid Diff: 0.798 / 0.810\n",
            " Epoch 14 | Train/Valid loss: 0.008 / 0.198 | Train/Valid Diff: 0.799 / 0.808\n",
            " Epoch 15 | Train/Valid loss: 0.008 / 0.195 | Train/Valid Diff: 0.798 / 0.803\n",
            " Epoch 16 | Train/Valid loss: 0.008 / 0.161 | Train/Valid Diff: 0.796 / 0.804\n",
            " Epoch 17 | Train/Valid loss: 0.008 / 0.264 | Train/Valid Diff: 0.800 / 0.804\n",
            " Epoch 18 | Train/Valid loss: 0.008 / 0.313 | Train/Valid Diff: 0.800 / 0.805\n",
            " Epoch 19 | Train/Valid loss: 0.008 / 0.198 | Train/Valid Diff: 0.781 / 0.747\n",
            " Epoch 20 | Train/Valid loss: 0.008 / 0.745 | Train/Valid Diff: 0.759 / 0.756\n",
            " Epoch 21 | Train/Valid loss: 0.008 / 0.269 | Train/Valid Diff: 0.763 / 0.762\n",
            " Epoch 22 | Train/Valid loss: 0.008 / 0.350 | Train/Valid Diff: 0.764 / 0.768\n",
            " Epoch 23 | Train/Valid loss: 0.008 / 0.637 | Train/Valid Diff: 0.762 / 0.771\n",
            " Epoch 24 | Train/Valid loss: 0.008 / 0.446 | Train/Valid Diff: 0.771 / 0.783\n",
            " Epoch 25 | Train/Valid loss: 0.008 / 0.541 | Train/Valid Diff: 0.770 / 0.800\n",
            " Epoch 26 | Train/Valid loss: 0.008 / 0.887 | Train/Valid Diff: 0.787 / 0.807\n",
            " Epoch 27 | Train/Valid loss: 0.008 / 1.430 | Train/Valid Diff: 0.801 / 0.793\n",
            " Epoch 28 | Train/Valid loss: 0.008 / 0.928 | Train/Valid Diff: 0.784 / 0.804\n",
            " Epoch 29 | Train/Valid loss: 0.008 / 2.404 | Train/Valid Diff: 0.793 / 0.807\n",
            " Epoch 30 | Train/Valid loss: 0.008 / 0.778 | Train/Valid Diff: 0.795 / 0.808\n",
            " Epoch 31 | Train/Valid loss: 0.008 / 1.009 | Train/Valid Diff: 0.794 / 0.805\n",
            " Epoch 32 | Train/Valid loss: 0.008 / 0.918 | Train/Valid Diff: 0.781 / 0.816\n",
            " Epoch 33 | Train/Valid loss: 0.008 / 0.527 | Train/Valid Diff: 0.789 / 0.802\n",
            " Epoch 34 | Train/Valid loss: 0.008 / 0.601 | Train/Valid Diff: 0.787 / 0.804\n",
            " Epoch 35 | Train/Valid loss: 0.008 / 0.324 | Train/Valid Diff: 0.791 / 0.812\n",
            " Epoch 36 | Train/Valid loss: 0.008 / 0.594 | Train/Valid Diff: 0.781 / 0.803\n",
            " Epoch 37 | Train/Valid loss: 0.008 / 0.622 | Train/Valid Diff: 0.769 / 0.802\n",
            " Epoch 38 | Train/Valid loss: 0.008 / 0.861 | Train/Valid Diff: 0.782 / 0.803\n",
            " Epoch 39 | Train/Valid loss: 0.008 / 1.103 | Train/Valid Diff: 0.780 / 0.804\n",
            " Epoch 40 | Train/Valid loss: 0.008 / 1.134 | Train/Valid Diff: 0.783 / 0.803\n",
            " Epoch 41 | Train/Valid loss: 0.008 / 1.217 | Train/Valid Diff: 0.780 / 0.802\n",
            " Epoch 42 | Train/Valid loss: 0.008 / 0.960 | Train/Valid Diff: 0.783 / 0.803\n",
            " Epoch 43 | Train/Valid loss: 0.008 / 1.196 | Train/Valid Diff: 0.778 / 0.769\n",
            " Epoch 44 | Train/Valid loss: 0.008 / 1.092 | Train/Valid Diff: 0.789 / 0.803\n",
            " Epoch 45 | Train/Valid loss: 0.008 / 1.267 | Train/Valid Diff: 0.774 / 0.793\n",
            " Epoch 46 | Train/Valid loss: 0.008 / 0.981 | Train/Valid Diff: 0.777 / 0.801\n",
            " Epoch 47 | Train/Valid loss: 0.008 / 0.596 | Train/Valid Diff: 0.761 / 0.795\n",
            " Epoch 48 | Train/Valid loss: 0.008 / 0.940 | Train/Valid Diff: 0.775 / 0.803\n",
            " Epoch 49 | Train/Valid loss: 0.008 / 0.841 | Train/Valid Diff: 0.778 / 0.802\n"
          ]
        },
        {
          "data": {
            "text/plain": [
              "Text(0, 0.5, 'MSE')"
            ]
          },
          "execution_count": 106,
          "metadata": {},
          "output_type": "execute_result"
        },
        {
          "data": {
            "image/png": "[encoded data removed]",
            "text/plain": [
              "<Figure size 432x288 with 1 Axes>"
            ]
          },
          "metadata": {
            "needs_background": "light"
          },
          "output_type": "display_data"
        },
        {
          "data": {
            "image/png": "[encoded data removed]",
            "text/plain": [
              "<Figure size 432x288 with 1 Axes>"
            ]
          },
          "metadata": {
            "needs_background": "light"
          },
          "output_type": "display_data"
        }
      ],
      "source": [
        "n_train = X_train_classification.shape[0]\n",
        "n_valid = X_test_classification.shape[0]\n",
        "# Instanciamos la red\n",
        "nnet = NNet()\n",
        "# Copio la red neuronal al dispositivo donde entrene la red neuronal\n",
        "nnet = nnet.to(device)\n",
        "# Función de pérdida y optimizador\n",
        "loss_function = torch.nn.CrossEntropyLoss()\n",
        "optimizer = torch.optim.Adam(nnet.parameters(), lr=0.01)\n",
        "\n",
        "# Algoritmo Mini-batch\n",
        "\n",
        "# cantidad de epochs\n",
        "epochs = 50\n",
        "\n",
        "train_loss_by_epoch=[]\n",
        "valid_loss_by_epoch=[]\n",
        "train_acc_by_epoch=[]\n",
        "valid_acc_by_epoch=[]\n",
        "\n",
        "# Doble loop algoritmo Mini-Batch\n",
        "for epoch in range(epochs):\n",
        "  \n",
        "  ############################################\n",
        "  ## Entrenamiento\n",
        "  ############################################\n",
        "  nnet.train(True)\n",
        "\n",
        "  epoch_loss = 0\n",
        "  epoch_y_hat = []\n",
        "  epoch_acc = []\n",
        "  epoch_y = []\n",
        "  train_diff = 0\n",
        "   \n",
        "  for i,data in enumerate(classification_dataloader['train']):\n",
        "    # Obtengo los datos del batch de entrenamiento\n",
        "    x_batch, y_batch = data\n",
        "    # Copio el batch al dispositivo donde entreno la red neuronal\n",
        "    x_batch = x_batch.to(device).float()\n",
        "    y_batch = y_batch.to(device).float()\n",
        "\n",
        "    # Paso forward\n",
        "    # Limpio optimizer para empezar un nuevo cálculo de gradiente\n",
        "    optimizer.zero_grad()\n",
        "    nnet_output = nnet(x_batch)\n",
        "    y_batch_hat = torch.sigmoid(nnet_output)\n",
        "    \n",
        "    # Calculo el loss\n",
        "    loss = loss_function(y_batch_hat, y_batch)\n",
        "    # Backpropagation\n",
        "    loss.backward()\n",
        "\n",
        "    # Actualizar los parámetros\n",
        "    optimizer.step()\n",
        "\n",
        "    # Almaceno los valores reales y mis predicciones para cálcular las métricas\n",
        "    epoch_y += list(y_batch.detach().cpu().numpy())\n",
        "    epoch_y_hat += list(y_batch_hat.detach().cpu().numpy())\n",
        "    acc = (torch.torch.argmax(y_batch, axis=1) == torch.argmax(y_batch_hat, axis=1)).sum().item() / len(y_batch)\n",
        "    epoch_acc.append(acc)\n",
        "    # Acumulo la loss del batch\n",
        "    epoch_loss = epoch_loss + loss.item()\n",
        "\n",
        "  # Calculo la media de la loss\n",
        "  epoch_loss = epoch_loss / n_train\n",
        "  # Almaceno la loss de la epoch para graficar\n",
        "  train_loss_by_epoch.append(epoch_loss)\n",
        "  # Cálculo la métrica de la epoch\n",
        "  train_acc_by_epoch.append(np.mean(epoch_acc))\n",
        "  \n",
        "\n",
        "  ############################################\n",
        "  ## Validación\n",
        "  ############################################\n",
        "  # Desactivo el cálculo de gradiente para validación\n",
        "  nnet.train(False)\n",
        "\n",
        "  valid_epoch_loss = 0\n",
        "  valid_epoch_y_hat = []\n",
        "  valid_epoch_y = []\n",
        "  valid_epoch_acc = []\n",
        "\n",
        "  for i,data in enumerate(classification_dataloader['test']):\n",
        "    # Obtengo los datos del batch de validación\n",
        "    x_batch, y_batch = data\n",
        "    # Copio el batch al dispositivo donde entreno la red neuronal\n",
        "    x_batch = x_batch.to(device).float()\n",
        "    y_batch = y_batch.to(device).float()\n",
        "\n",
        "    # Paso forward\n",
        "    nnet_output = nnet(x_batch)\n",
        "    y_batch_hat = nnet_output # torch.sigmoid(nnet_output)\n",
        "    \n",
        "    # Calculo el loss\n",
        "    loss = loss_function(nnet_output, y_batch)\n",
        "\n",
        "    # En validación no hago backpropagation!!\n",
        "\n",
        "    # Almaceno los valores reales y mis predicciones para cálcular las métricas\n",
        "    valid_epoch_y += list(y_batch.detach().cpu().numpy())\n",
        "    valid_epoch_y_hat += list(y_batch_hat.detach().cpu().numpy())\n",
        "    acc = (torch.torch.argmax(y_batch, axis=1) == torch.argmax(y_batch_hat, axis=1)).sum().item() / len(y_batch)\n",
        "    valid_epoch_acc.append(acc)\n",
        "    # Acumulo la loss del batch\n",
        "    valid_epoch_loss = valid_epoch_loss + loss.item()\n",
        "\n",
        "  # Calculo la media de la loss\n",
        "  valid_epoch_loss = valid_epoch_loss / n_valid\n",
        "  # Almaceno la loss de la epoch para graficar\n",
        "  valid_loss_by_epoch.append(valid_epoch_loss)\n",
        "  # Cálculo la métrica de la epoch\n",
        "  valid_acc_by_epoch.append(np.mean(valid_epoch_acc))\n",
        "  \n",
        "\n",
        "  ############################################\n",
        "  ## Impresión de resultados por epoch\n",
        "  ############################################\n",
        "  #print(\" Epoch {epoch} | \" \\\n",
        "  #      f\"Train/Valid loss: {epoch_loss:.3f} / {valid_epoch_loss:.3f} | \")\n",
        "  print(f\" Epoch {epoch} | \" \\\n",
        "        f\"Train/Valid loss: {epoch_loss:.3f} / {valid_epoch_loss:.3f} | \" \\\n",
        "        f\"Train/Valid Diff: {np.mean(epoch_acc):.3f} / {np.mean(valid_epoch_acc):.3f}\")\n",
        "\n",
        "\n",
        "# Grafica loss por epoch\n",
        "fig, ax1= plt.subplots(1,1)\n",
        "ax1.plot(train_loss_by_epoch, label=\"Train loss\")\n",
        "ax1.plot(valid_loss_by_epoch, label=\"Validation loss\")\n",
        "ax1.legend()\n",
        "ax1.set_title(\"Loss by epoch\")\n",
        "ax1.set_xlabel(\"epoch\")\n",
        "ax1.set_ylabel(\"BCE\")\n",
        "\n",
        "\n",
        "fig, ax1= plt.subplots(1,1)\n",
        "ax1.plot(train_acc_by_epoch, label=\"Train acc\")\n",
        "ax1.plot(valid_acc_by_epoch, label=\"Validation acc\")\n",
        "ax1.legend()\n",
        "ax1.set_title(\"Diff by epoch\")\n",
        "ax1.set_xlabel(\"epoch\")\n",
        "ax1.set_ylabel(\"MSE\")"
      ]
    },
    {
      "cell_type": "code",
      "execution_count": 107,
      "metadata": {},
      "outputs": [],
      "source": [
        "torch.save(nnet.state_dict(), 'nnet/nnet_classification_8_capas.pth')\n",
        "#torch.save(model.state_dict(), 'nnet/cnn_classification_4_bloques.pth')"
      ]
    },
    {
      "cell_type": "markdown",
      "metadata": {},
      "source": [
        "Vemos el comportamiento de ambas redes"
      ]
    },
    {
      "cell_type": "code",
      "execution_count": 111,
      "metadata": {},
      "outputs": [
        {
          "data": {
            "text/plain": [
              "array([0.39803922, 0.11601916, 0.33669201, 0.        , 0.13156129,\n",
              "       0.02833329, 1.        , 0.        , 1.        , 0.        ,\n",
              "       0.        , 1.        , 0.        , 0.        , 1.        ,\n",
              "       0.        , 0.        , 0.        , 0.        , 0.        ,\n",
              "       0.        , 1.        , 0.        , 0.        ])"
            ]
          },
          "execution_count": 111,
          "metadata": {},
          "output_type": "execute_result"
        }
      ],
      "source": [
        "X_test_classification[0]"
      ]
    },
    {
      "cell_type": "code",
      "execution_count": 113,
      "metadata": {},
      "outputs": [
        {
          "name": "stdout",
          "output_type": "stream",
          "text": [
            "775\n"
          ]
        }
      ],
      "source": [
        "i = 0\n",
        "\n",
        "for index in range(2000):\n",
        "    t = torch.tensor(X_test_classification[index]).float().unsqueeze(0)\n",
        "    y_hat = nnet.forward(t)\n",
        "    i = i + torch.argmax(y_hat).item()\n",
        "    #print(\"Tiene razon la prediccion?\")\n",
        "    #print((y_test_classification[index][torch.argmax(y_hat)] == 1).item())\n",
        "\n",
        "print(i)"
      ]
    },
    {
      "cell_type": "code",
      "execution_count": 164,
      "metadata": {},
      "outputs": [
        {
          "name": "stdout",
          "output_type": "stream",
          "text": [
            "NNET\n",
            "Valor predicho\n",
            "tensor([[-11.0991,  38.3818]], grad_fn=<AddmmBackward0>)\n",
            "Tiene razon la prediccion?\n",
            "True\n",
            "NNET\n",
            "Valor predicho\n",
            "tensor([[-117.6782,  378.5925]], grad_fn=<AddmmBackward0>)\n",
            "Tiene razon la prediccion?\n",
            "True\n",
            "NNET\n",
            "Valor predicho\n",
            "tensor([[  8.3934, -17.5548]], grad_fn=<AddmmBackward0>)\n",
            "Tiene razon la prediccion?\n",
            "True\n",
            "NNET\n",
            "Valor predicho\n",
            "tensor([[ 1165.6718, -1738.4077]], grad_fn=<AddmmBackward0>)\n",
            "Tiene razon la prediccion?\n",
            "True\n"
          ]
        }
      ],
      "source": [
        "for index in [50, 100, 150, 200]:\n",
        "    print(\"NNET\")\n",
        "    t = torch.tensor(X_test_classification[index]).float().unsqueeze(0)\n",
        "    y_hat = nnet.forward(t)\n",
        "    print(\"Valor predicho\")\n",
        "    print(y_hat)\n",
        "    print(\"Tiene razon la prediccion?\")\n",
        "    print((y_test_classification[index][torch.argmax(y_hat)] == 1).item())"
      ]
    },
    {
      "cell_type": "code",
      "execution_count": 166,
      "metadata": {},
      "outputs": [
        {
          "name": "stdout",
          "output_type": "stream",
          "text": [
            "3631\n",
            "5891\n"
          ]
        }
      ],
      "source": [
        "print(len(df_with_mean['Product_ID'].unique()))\n",
        "print(len(df_with_mean['User_ID'].unique()))"
      ]
    },
    {
      "cell_type": "code",
      "execution_count": 125,
      "metadata": {},
      "outputs": [],
      "source": [
        "user_id_to_idx = {value:i for i,value in enumerate(df_with_mean['User_ID'].unique())}\n",
        "product_id_to_idx = {value:i for i,value in enumerate(df_with_mean['Product_ID'].unique())}"
      ]
    },
    {
      "cell_type": "code",
      "execution_count": 126,
      "metadata": {},
      "outputs": [],
      "source": [
        "user_idx = np.array([user_id_to_idx[value] for value in df_with_mean['User_ID']])\n",
        "product_idx = np.array([product_id_to_idx[value] for value in df_with_mean['Product_ID']])"
      ]
    },
    {
      "cell_type": "code",
      "execution_count": 127,
      "metadata": {},
      "outputs": [],
      "source": [
        "# Divido el vector en entrenamiento y validación\n",
        "user_idx_train = user_idx[train_idx]\n",
        "user_idx_valid = user_idx[valid_idx]\n",
        "\n",
        "product_idx_train = product_idx[train_idx]\n",
        "product_idx_valid = product_idx[valid_idx]"
      ]
    },
    {
      "cell_type": "code",
      "execution_count": 154,
      "metadata": {},
      "outputs": [
        {
          "data": {
            "text/plain": [
              "482"
            ]
          },
          "execution_count": 154,
          "metadata": {},
          "output_type": "execute_result"
        }
      ],
      "source": [
        "len(df_classification['User_ID'].unique())"
      ]
    },
    {
      "cell_type": "code",
      "execution_count": 150,
      "metadata": {},
      "outputs": [
        {
          "data": {
            "text/plain": [
              "array([ 206,  734, 1645, ...,  201, 1599,  529])"
            ]
          },
          "execution_count": 150,
          "metadata": {},
          "output_type": "execute_result"
        }
      ],
      "source": [
        "product_idx_train"
      ]
    },
    {
      "cell_type": "code",
      "execution_count": 128,
      "metadata": {},
      "outputs": [],
      "source": [
        "# Clase Dataset de Pytorch con embeddings\n",
        "class MyDatasetWithEmbddings(torch.utils.data.DataLoader):\n",
        "\n",
        "  def __init__(self, x, user_idx, product_idx, y):\n",
        "    self.x = x\n",
        "    self.user_idx = user_idx\n",
        "    self.product_idx = product_idx\n",
        "    self.y = y\n",
        "\n",
        "  def __len__(self):\n",
        "    return self.x.shape[0]\n",
        "\n",
        "  def __getitem__(self, idx):\n",
        "    return self.x[idx], self.user_idx[idx], self.product_idx[idx], self.y[idx]"
      ]
    },
    {
      "cell_type": "code",
      "execution_count": 129,
      "metadata": {},
      "outputs": [],
      "source": [
        "train_ds_embeddings = MyDatasetWithEmbddings(X_train_classification, user_idx_train, product_idx_train, y_train_classification)\n",
        "valid_ds_embeddings = MyDatasetWithEmbddings(X_test_classification, user_idx_valid, product_idx_valid, y_test_classification)"
      ]
    },
    {
      "cell_type": "code",
      "execution_count": 131,
      "metadata": {},
      "outputs": [],
      "source": [
        "train_dataloader_emb = torch.utils.data.DataLoader(train_ds_embeddings, batch_size =64, shuffle= True)\n",
        "valid_dataloader_emb = torch.utils.data.DataLoader(valid_ds_embeddings, batch_size=64)"
      ]
    },
    {
      "cell_type": "code",
      "execution_count": 177,
      "metadata": {},
      "outputs": [],
      "source": [
        "# Arquitectura con embeddings\n",
        "class NNetWithEmbeddings(torch.nn.Module):\n",
        "\n",
        "  def __init__(self):\n",
        "    super().__init__()\n",
        "    self.product_embeddings = torch.nn.Embedding(num_embeddings=3631, embedding_dim=16) #product_id\n",
        "    self.user_embeddings = torch.nn.Embedding(num_embeddings=5891, embedding_dim=16) #user_id\n",
        "    self.linear_1 = torch.nn.Linear(in_features=24+(16*2), out_features=72, bias=True)\n",
        "    self.non_linear_1 = torch.nn.ReLU()\n",
        "    self.linear_2 = torch.nn.Linear(in_features = 72, out_features=36, bias=True)\n",
        "    self.non_linear_2 = torch.nn.ReLU()\n",
        "    self.linear_3 = torch.nn.Linear(in_features = 36, out_features=18, bias=True)\n",
        "    self.non_linear_3 = torch.nn.ReLU()\n",
        "    self.output = torch.nn.Linear(in_features = 18, out_features= 2, bias=True)\n",
        "\n",
        "  def forward(self, x, user_idx, product_idx):\n",
        "    product_embeddings_outputs = self.product_embeddings(product_idx)\n",
        "    user_embeddings_outputs = self.user_embeddings(user_idx)\n",
        "    x = torch.cat([x, product_embeddings_outputs], dim=1)\n",
        "    x = torch.cat([x, user_embeddings_outputs], dim=1)\n",
        "    x = self.linear_1(x)\n",
        "    x = self.non_linear_1(x)\n",
        "    x = self.linear_2(x)\n",
        "    x = self.non_linear_2(x)\n",
        "\n",
        "    x = self.linear_3(x)\n",
        "    x = self.non_linear_3(x)\n",
        "    \n",
        "    x = self.output(x)\n",
        "    return x"
      ]
    },
    {
      "cell_type": "code",
      "execution_count": 178,
      "metadata": {},
      "outputs": [],
      "source": [
        "nnnetWithEmbeddings = NNetWithEmbeddings()\n",
        "nnnetWithEmbeddings = nnnetWithEmbeddings.to(device)"
      ]
    },
    {
      "cell_type": "code",
      "execution_count": 179,
      "metadata": {},
      "outputs": [],
      "source": [
        "loss_function = torch.nn.BCEWithLogitsLoss(reduction='sum')\n",
        "# Optimizador con regularización L2 (parámetro weight_decay)\n",
        "optimizer = torch.optim.Adam(nnnetWithEmbeddings.parameters(), lr=0.001, weight_decay=0.01) "
      ]
    },
    {
      "cell_type": "code",
      "execution_count": 180,
      "metadata": {},
      "outputs": [
        {
          "name": "stdout",
          "output_type": "stream",
          "text": [
            " Epoch 0 | Train/Valid loss: 0.668 / 0.550 | Train/Valid accuracy: 0.846 / 0.876\n",
            " Epoch 1 | Train/Valid loss: 0.534 / 0.528 | Train/Valid accuracy: 0.880 / 0.881\n",
            " Epoch 2 | Train/Valid loss: 0.523 / 0.523 | Train/Valid accuracy: 0.881 / 0.882\n",
            " Epoch 3 | Train/Valid loss: 0.515 / 0.519 | Train/Valid accuracy: 0.883 / 0.883\n",
            " Epoch 4 | Train/Valid loss: 0.509 / 0.517 | Train/Valid accuracy: 0.884 / 0.883\n",
            " Epoch 5 | Train/Valid loss: 0.504 / 0.517 | Train/Valid accuracy: 0.886 / 0.883\n",
            " Epoch 6 | Train/Valid loss: 0.500 / 0.512 | Train/Valid accuracy: 0.887 / 0.883\n",
            " Epoch 7 | Train/Valid loss: 0.495 / 0.508 | Train/Valid accuracy: 0.888 / 0.885\n",
            " Epoch 8 | Train/Valid loss: 0.491 / 0.506 | Train/Valid accuracy: 0.890 / 0.886\n",
            " Epoch 9 | Train/Valid loss: 0.486 / 0.505 | Train/Valid accuracy: 0.891 / 0.886\n",
            " Epoch 10 | Train/Valid loss: 0.482 / 0.508 | Train/Valid accuracy: 0.892 / 0.885\n",
            " Epoch 11 | Train/Valid loss: 0.480 / 0.507 | Train/Valid accuracy: 0.892 / 0.885\n",
            " Epoch 12 | Train/Valid loss: 0.478 / 0.505 | Train/Valid accuracy: 0.893 / 0.886\n",
            " Epoch 13 | Train/Valid loss: 0.475 / 0.508 | Train/Valid accuracy: 0.893 / 0.886\n",
            " Epoch 14 | Train/Valid loss: 0.474 / 0.504 | Train/Valid accuracy: 0.894 / 0.887\n",
            " Epoch 15 | Train/Valid loss: 0.473 / 0.502 | Train/Valid accuracy: 0.894 / 0.886\n",
            " Epoch 16 | Train/Valid loss: 0.472 / 0.503 | Train/Valid accuracy: 0.894 / 0.886\n",
            " Epoch 17 | Train/Valid loss: 0.471 / 0.504 | Train/Valid accuracy: 0.895 / 0.885\n",
            " Epoch 18 | Train/Valid loss: 0.470 / 0.503 | Train/Valid accuracy: 0.895 / 0.886\n",
            " Epoch 19 | Train/Valid loss: 0.470 / 0.504 | Train/Valid accuracy: 0.895 / 0.887\n",
            " Epoch 20 | Train/Valid loss: 0.469 / 0.507 | Train/Valid accuracy: 0.895 / 0.885\n",
            " Epoch 21 | Train/Valid loss: 0.469 / 0.503 | Train/Valid accuracy: 0.895 / 0.886\n",
            " Epoch 22 | Train/Valid loss: 0.468 / 0.504 | Train/Valid accuracy: 0.895 / 0.887\n",
            " Epoch 23 | Train/Valid loss: 0.467 / 0.503 | Train/Valid accuracy: 0.896 / 0.886\n",
            " Epoch 24 | Train/Valid loss: 0.466 / 0.505 | Train/Valid accuracy: 0.896 / 0.886\n",
            " Epoch 25 | Train/Valid loss: 0.466 / 0.507 | Train/Valid accuracy: 0.896 / 0.886\n",
            " Epoch 26 | Train/Valid loss: 0.466 / 0.504 | Train/Valid accuracy: 0.896 / 0.886\n",
            " Epoch 27 | Train/Valid loss: 0.466 / 0.504 | Train/Valid accuracy: 0.896 / 0.886\n",
            " Epoch 28 | Train/Valid loss: 0.465 / 0.507 | Train/Valid accuracy: 0.896 / 0.885\n",
            " Epoch 29 | Train/Valid loss: 0.465 / 0.505 | Train/Valid accuracy: 0.896 / 0.887\n",
            " Epoch 30 | Train/Valid loss: 0.465 / 0.505 | Train/Valid accuracy: 0.896 / 0.886\n",
            " Epoch 31 | Train/Valid loss: 0.464 / 0.509 | Train/Valid accuracy: 0.897 / 0.885\n",
            " Epoch 32 | Train/Valid loss: 0.464 / 0.505 | Train/Valid accuracy: 0.897 / 0.887\n",
            " Epoch 33 | Train/Valid loss: 0.464 / 0.504 | Train/Valid accuracy: 0.896 / 0.886\n",
            " Epoch 34 | Train/Valid loss: 0.463 / 0.506 | Train/Valid accuracy: 0.896 / 0.885\n",
            " Epoch 35 | Train/Valid loss: 0.463 / 0.504 | Train/Valid accuracy: 0.897 / 0.886\n",
            " Epoch 36 | Train/Valid loss: 0.463 / 0.503 | Train/Valid accuracy: 0.897 / 0.887\n",
            " Epoch 37 | Train/Valid loss: 0.463 / 0.506 | Train/Valid accuracy: 0.897 / 0.886\n",
            " Epoch 38 | Train/Valid loss: 0.463 / 0.506 | Train/Valid accuracy: 0.897 / 0.886\n",
            " Epoch 39 | Train/Valid loss: 0.462 / 0.507 | Train/Valid accuracy: 0.897 / 0.887\n",
            " Epoch 40 | Train/Valid loss: 0.462 / 0.508 | Train/Valid accuracy: 0.897 / 0.885\n",
            " Epoch 41 | Train/Valid loss: 0.462 / 0.508 | Train/Valid accuracy: 0.897 / 0.886\n",
            " Epoch 42 | Train/Valid loss: 0.462 / 0.505 | Train/Valid accuracy: 0.897 / 0.886\n",
            " Epoch 43 | Train/Valid loss: 0.462 / 0.507 | Train/Valid accuracy: 0.897 / 0.886\n",
            " Epoch 44 | Train/Valid loss: 0.461 / 0.506 | Train/Valid accuracy: 0.897 / 0.887\n",
            " Epoch 45 | Train/Valid loss: 0.461 / 0.506 | Train/Valid accuracy: 0.897 / 0.886\n",
            " Epoch 46 | Train/Valid loss: 0.461 / 0.506 | Train/Valid accuracy: 0.897 / 0.885\n",
            " Epoch 47 | Train/Valid loss: 0.461 / 0.507 | Train/Valid accuracy: 0.897 / 0.885\n",
            " Epoch 48 | Train/Valid loss: 0.460 / 0.509 | Train/Valid accuracy: 0.898 / 0.886\n",
            " Epoch 49 | Train/Valid loss: 0.461 / 0.506 | Train/Valid accuracy: 0.897 / 0.886\n"
          ]
        }
      ],
      "source": [
        "# Mini-Batch\n",
        "\n",
        "# cantidad de epochs\n",
        "epochs = 50\n",
        "\n",
        "train_loss_by_epoch=[]\n",
        "valid_loss_by_epoch=[]\n",
        "\n",
        "# Doble loop algoritmo Mini-Batch\n",
        "for epoch in range(epochs):\n",
        "  \n",
        "  ############################################\n",
        "  ## Entrenamiento\n",
        "  ############################################\n",
        "  nnnetWithEmbeddings.train(True)\n",
        "\n",
        "  epoch_loss = 0\n",
        "  epoch_y_hat = []\n",
        "  epoch_y = []\n",
        "  \n",
        "  for i,data in enumerate(train_dataloader_emb):\n",
        "    # Obtengo los datos del batch de entrenamiento\n",
        "    x_batch, user_embed_batch, product_embed_batch, y_batch = data\n",
        "    # Copio el batch al dispositivo donde entreno la red neuronal\n",
        "    x_batch = x_batch.to(device).float()\n",
        "    user_embed_batch = user_embed_batch.to(device).int()\n",
        "    product_embed_batch = product_embed_batch.to(device).int()\n",
        "    y_batch = y_batch.to(device).float()\n",
        "\n",
        "    # Paso forward\n",
        "    # Limpio optimizer para empezar un nuevo cálculo de gradiente\n",
        "    optimizer.zero_grad()\n",
        "    nnet_output = nnnetWithEmbeddings(x_batch, user_embed_batch, product_embed_batch)\n",
        "    y_batch_hat = torch.sigmoid(nnet_output)\n",
        "    \n",
        "    # Calculo el loss\n",
        "    loss = loss_function(nnet_output, y_batch)\n",
        "\n",
        "    # Backpropagation\n",
        "    loss.backward()\n",
        "\n",
        "    # Actualizar los parámetros\n",
        "    optimizer.step()\n",
        "\n",
        "    # Almaceno los valores reales y mis predicciones para cálcular las métricas\n",
        "    epoch_y += list(y_batch.detach().cpu().numpy())\n",
        "    epoch_y_hat += list(y_batch_hat.detach().cpu().numpy())\n",
        "    # Acumulo la loss del batch\n",
        "    epoch_loss = epoch_loss + loss.item()\n",
        "\n",
        "  # Calculo la media de la loss\n",
        "  epoch_loss = epoch_loss / n_train\n",
        "  # Almaceno la loss de la epoch para graficar\n",
        "  train_loss_by_epoch.append(epoch_loss)\n",
        "  # Cálculo la métrica de la epoch\n",
        "  accuracy = metrics.accuracy_score(epoch_y, [j>=0.5 for j in epoch_y_hat])\n",
        "\n",
        "  ############################################\n",
        "  ## Validación\n",
        "  ############################################\n",
        "  # Desactivo el cálculo de gradiente para validación\n",
        "  nnnetWithEmbeddings.train(False)\n",
        "\n",
        "  valid_epoch_loss = 0\n",
        "  valid_epoch_y_hat = []\n",
        "  valid_epoch_y = []\n",
        "\n",
        "  for i,data in enumerate(valid_dataloader_emb):\n",
        "    # Obtengo los datos del batch de validación\n",
        "    x_batch, user_embed_batch, product_embed_batch, y_batch = data\n",
        "    # Copio el batch al dispositivo donde entreno la red neuronal\n",
        "    x_batch = x_batch.to(device).float()\n",
        "    user_embed_batch = user_embed_batch.to(device).int()\n",
        "    product_embed_batch = product_embed_batch.to(device).int()\n",
        "    y_batch = y_batch.to(device).float()\n",
        "\n",
        "    # Paso forward\n",
        "    # Limpio optimizer para empezar un nuevo cálculo de gradiente\n",
        "    optimizer.zero_grad()\n",
        "    nnet_output = nnnetWithEmbeddings(x_batch, user_embed_batch, product_embed_batch)\n",
        "    y_batch_hat = torch.sigmoid(nnet_output)\n",
        "    \n",
        "    # Calculo el loss\n",
        "    loss = loss_function(nnet_output, y_batch)\n",
        "\n",
        "    # En validación no hago backpropagation!!\n",
        "\n",
        "    # Almaceno los valores reales y mis predicciones para cálcular las métricas\n",
        "    valid_epoch_y += list(y_batch.detach().cpu().numpy())\n",
        "    valid_epoch_y_hat += list(y_batch_hat.detach().cpu().numpy())\n",
        "    # Acumulo la loss del batch\n",
        "    valid_epoch_loss = valid_epoch_loss + loss.item()\n",
        "\n",
        "  # Calculo la media de la loss\n",
        "  valid_epoch_loss = valid_epoch_loss / n_valid\n",
        "  # Almaceno la loss de la epoch para graficar\n",
        "  valid_loss_by_epoch.append(valid_epoch_loss)\n",
        "  # Cálculo la métrica de la epoch\n",
        "  valid_accuracy = metrics.accuracy_score(valid_epoch_y, [j>=0.5 for j in valid_epoch_y_hat])\n",
        "\n",
        "  ############################################\n",
        "  ## Impresión de resultados por epoch\n",
        "  ############################################\n",
        "  print(f\" Epoch {epoch} | \" \\\n",
        "        f\"Train/Valid loss: {epoch_loss:.3f} / {valid_epoch_loss:.3f} | \" \\\n",
        "        f\"Train/Valid accuracy: {accuracy:.3f} / {valid_accuracy:.3f}\")"
      ]
    },
    {
      "cell_type": "code",
      "execution_count": 181,
      "metadata": {},
      "outputs": [],
      "source": [
        "torch.save(nnnetWithEmbeddings.state_dict(), 'nnet/nnnet_with_embeddings_16_valores.pth')"
      ]
    },
    {
      "cell_type": "markdown",
      "metadata": {},
      "source": [
        "El resultado del modelo fue mejorando a medida que se trabajó el dataset. Las primeras pruebas fueron sin normalizar y se nota que los valores altos como user id y product id influian mucho. Luego al normalizar el score mejoró. "
      ]
    },
    {
      "cell_type": "markdown",
      "metadata": {},
      "source": [
        "El dataset contenia una gran cantidad valores nulos para las columnas de categoria de productos. Decidí imputarlos por el promedio en lugar de omitir los valores nulos ya que perdia muchas filas del dataset"
      ]
    },
    {
      "cell_type": "markdown",
      "metadata": {},
      "source": [
        "Luego, probé con una red convolucional y una con capas lineales y relu, obteniendo resultados similares. Opté por dejar la red de capas lineales que tuvo resultados aceptables."
      ]
    },
    {
      "cell_type": "markdown",
      "metadata": {},
      "source": [
        "Por último implementé embeddings para usuarios y productos. Probé con 8 y con 16 valores por fila, obteniendo mejores resultados con 16. Esto implica mayor cantidad de parámetros a entrenar, por lo que el modelo entrena mas lento, sin embargo obtuve mejores resultados por lo que fue el modelo que deje."
      ]
    },
    {
      "cell_type": "markdown",
      "metadata": {},
      "source": [
        "Al final persistí ambos modelos para no perder los entrenamientos."
      ]
    },
    {
      "cell_type": "markdown",
      "metadata": {},
      "source": [
        "En conclusión, para estos casos donde se tienen ids y los ids representan entidades importantes para el modelo que queremos entrenar, debemos mantener estos datos en el dataset para no perder representatividad y caer en underfiting. Para los casos donde la granularidad es baja podemos hacer one hot encoding, pero para los casos donde la granularidad sube y sobre todo en este caso donde habia miles de valores para cada columna, conviene hacer uso de embedings para mantener los datos con la representatividad adecuada para que la red pueda interpretarlos."
      ]
    }
  ],
  "metadata": {
    "colab": {
      "provenance": []
    },
    "kernelspec": {
      "display_name": "Python 3.9.12 ('base')",
      "language": "python",
      "name": "python3"
    },
    "language_info": {
      "codemirror_mode": {
        "name": "ipython",
        "version": 3
      },
      "file_extension": ".py",
      "mimetype": "text/x-python",
      "name": "python",
      "nbconvert_exporter": "python",
      "pygments_lexer": "ipython3",
      "version": "3.9.12"
    },
    "vscode": {
      "interpreter": {
        "hash": "2694cdbf4718a5ec247b545273d596d40a2acbca35541806ef80a95b7d0be348"
      }
    }
  },
  "nbformat": 4,
  "nbformat_minor": 0
}
